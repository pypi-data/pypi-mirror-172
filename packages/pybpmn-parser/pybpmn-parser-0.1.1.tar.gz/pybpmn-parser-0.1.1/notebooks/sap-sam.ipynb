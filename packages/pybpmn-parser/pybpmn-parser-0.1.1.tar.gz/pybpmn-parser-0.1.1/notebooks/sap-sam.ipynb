{
 "cells": [
  {
   "cell_type": "code",
   "execution_count": 21,
   "id": "e651bdd5-0ff1-4515-940b-7f47a5808ecd",
   "metadata": {},
   "outputs": [
    {
     "name": "stdout",
     "output_type": "stream",
     "text": [
      "The autoreload extension is already loaded. To reload it, use:\n",
      "  %reload_ext autoreload\n"
     ]
    }
   ],
   "source": [
    "import os, sys, math, logging, random\n",
    "from pathlib import Path\n",
    "\n",
    "import numpy as np\n",
    "\n",
    "%load_ext autoreload\n",
    "%autoreload 2\n",
    "\n",
    "import matplotlib as mpl\n",
    "import matplotlib.pyplot as plt\n",
    "%matplotlib inline\n",
    "%config InlineBackend.figure_format = 'retina'\n",
    "\n",
    "logging.basicConfig(level=logging.INFO, stream=sys.stdout)\n",
    "\n",
    "import pandas as pd\n",
    "pd.set_option('display.max_colwidth', 200)\n",
    "\n",
    "import yamlu\n",
    "\n",
    "from pybpmn.parser import BpmnParser, InvalidBpmnException\n",
    "from yamlu.img import AnnotatedImage, Annotation"
   ]
  },
  {
   "cell_type": "code",
   "execution_count": 22,
   "id": "0949de6e-6763-46ec-b38d-8fa21ac6f390",
   "metadata": {},
   "outputs": [
    {
     "data": {
      "text/plain": [
       "535871"
      ]
     },
     "execution_count": 22,
     "metadata": {},
     "output_type": "execute_result"
    }
   ],
   "source": [
    "bpmn_paths = yamlu.glob(Path.home() / \"ws\" / \"sapsam\" / \"sapsam-6k\", \"*.bpmn\")\n",
    "len(bpmn_paths)"
   ]
  },
  {
   "cell_type": "code",
   "execution_count": 23,
   "id": "9fbd5dc4-56a0-4c5f-a854-a0b542d27c9b",
   "metadata": {},
   "outputs": [
    {
     "name": "stderr",
     "output_type": "stream",
     "text": [
      " 18%|█▊        | 97415/535871 [58:13<2:00:47, 60.50it/s]   "
     ]
    },
    {
     "name": "stdout",
     "output_type": "stream",
     "text": [
      "{'fname': '3265a8c17ef542e492c6bc0ade069027.bpmn', 'has_error': True, 'error_type': 'TypeError', 'error_details': \"'NoneType' object is not subscriptable\"}\n"
     ]
    },
    {
     "name": "stderr",
     "output_type": "stream",
     "text": [
      " 21%|██        | 109877/535871 [1:02:00<2:12:41, 53.51it/s]"
     ]
    },
    {
     "name": "stdout",
     "output_type": "stream",
     "text": [
      "{'fname': '37935a198a0346c38b381636a50b3854.bpmn', 'has_error': True, 'error_type': 'AssertionError', 'error_details': \"conversation {'id': 'sid-DAACD7BC-102A-490A-8206-91B4CEAE606C', 'name': 'Pizza bestellen'} unknown category: conversation\"}\n"
     ]
    },
    {
     "name": "stderr",
     "output_type": "stream",
     "text": [
      " 34%|███▎      | 179671/535871 [1:21:32<1:23:38, 70.98it/s]"
     ]
    },
    {
     "name": "stdout",
     "output_type": "stream",
     "text": [
      "{'fname': '596f17bf5adf42928cf3a45f8331bc9f.bpmn', 'has_error': True, 'error_type': 'TypeError', 'error_details': \"'NoneType' object is not subscriptable\"}\n"
     ]
    },
    {
     "name": "stderr",
     "output_type": "stream",
     "text": [
      " 34%|███▍      | 183066/535871 [1:22:21<1:23:29, 70.42it/s]"
     ]
    },
    {
     "name": "stdout",
     "output_type": "stream",
     "text": [
      "{'fname': '5aca90a1fcb04990b9b1093132f69f96.bpmn', 'has_error': True, 'error_type': 'AssertionError', 'error_details': \"conversation {'id': 'sid-B9190499-2722-4E09-A94D-332A2B94BF13', 'name': 'Interactiune privind\\\\n Relatarea/Negocierea \\\\ncerintelor\\\\n'} unknown category: conversation\"}\n"
     ]
    },
    {
     "name": "stderr",
     "output_type": "stream",
     "text": [
      " 52%|█████▏    | 276557/535871 [1:45:10<59:27, 72.68it/s]  "
     ]
    },
    {
     "name": "stdout",
     "output_type": "stream",
     "text": [
      "{'fname': '816bccc707204252a7edabdffba2c2ed.bpmn', 'has_error': True, 'error_type': 'AssertionError', 'error_details': \"conversation {'id': 'sid-4DF81011-3380-4BAF-9822-A4C2A640B389', 'name': 'Pizza bestellen'} unknown category: conversation\"}\n"
     ]
    },
    {
     "name": "stderr",
     "output_type": "stream",
     "text": [
      " 74%|███████▍  | 396254/535871 [2:15:38<33:42, 69.04it/s]  "
     ]
    },
    {
     "name": "stdout",
     "output_type": "stream",
     "text": [
      "{'fname': 'b7980f3a281d44d496f47f8b61b287a9.bpmn', 'has_error': True, 'error_type': 'AssertionError', 'error_details': \"conversation {'id': 'sid-B2022153-06BE-4F7B-B47D-6BE7FFFA39AF'} unknown category: conversation\"}\n"
     ]
    },
    {
     "name": "stderr",
     "output_type": "stream",
     "text": [
      " 84%|████████▍ | 451167/535871 [2:30:00<21:53, 64.51it/s]  "
     ]
    },
    {
     "name": "stdout",
     "output_type": "stream",
     "text": [
      "{'fname': 'd320ff3e74304f40ade9cd428a8740b7.bpmn', 'has_error': True, 'error_type': 'AssertionError', 'error_details': \"conversation {'id': 'sid-3B115F0C-A4DC-44B8-8D70-C8FC9695297B', 'name': 'Payment or reservation'} unknown category: conversation\"}\n"
     ]
    },
    {
     "name": "stderr",
     "output_type": "stream",
     "text": [
      " 92%|█████████▏| 491778/535871 [2:40:56<10:22, 70.80it/s]"
     ]
    },
    {
     "name": "stdout",
     "output_type": "stream",
     "text": [
      "{'fname': 'e966c4d96b364d33b0695a9938049204.bpmn', 'has_error': True, 'error_type': 'AssertionError', 'error_details': \"conversation {'id': 'sid-6B0821C4-ECD0-4158-A621-76064D3C0736', 'name': 'Ticket\\\\nreservation'} unknown category: conversation\"}\n"
     ]
    },
    {
     "name": "stderr",
     "output_type": "stream",
     "text": [
      "100%|██████████| 535871/535871 [2:53:29<00:00, 51.48it/s]  \n"
     ]
    },
    {
     "name": "stdout",
     "output_type": "stream",
     "text": [
      "48953/535871 (9.14%)\n"
     ]
    }
   ],
   "source": [
    "import sys\n",
    "from tqdm import tqdm\n",
    "from pybpmn.parser import BpmnParser, InvalidBpmnException\n",
    "from pybpmn import syntax\n",
    "\n",
    "logging.getLogger(\"pybpmn\").setLevel(\"INFO\")\n",
    "parser = BpmnParser(link_pools=False, link_lanes=False)\n",
    "\n",
    "records = []\n",
    "for p in tqdm(bpmn_paths):\n",
    "    try:\n",
    "        anns = parser.parse_bpmn_anns(p)\n",
    "        records.append({\n",
    "            \"fname\": p.name, \n",
    "            \"has_error\": False,\n",
    "            \"shapes\": len([a for a in anns if a.category in set(syntax.BPMNDI_SHAPE_CATEGORIES)]),\n",
    "            \"edges\": len([a for a in anns if a.category in set(syntax.BPMNDI_EDGE_CATEGORIES)]),\n",
    "        })\n",
    "    except InvalidBpmnException as e:\n",
    "        records.append({\"fname\": p.name, \"has_error\": True, \"error_type\": e.error_type, \"error_details\": e.details})\n",
    "    except Exception as e:\n",
    "        r = {\"fname\": p.name, \"has_error\": True, \"error_type\": type(e).__name__, \"error_details\": str(e)}\n",
    "        print(r)\n",
    "        records.append(r)\n",
    "\n",
    "df = pd.DataFrame.from_records(records).set_index(\"fname\")\n",
    "df[[\"shapes\", \"edges\"]] = df[[\"shapes\", \"edges\"]].fillna(-1, downcast=\"infer\")\n",
    "print(yamlu.bin_stats(df.has_error))"
   ]
  },
  {
   "cell_type": "code",
   "execution_count": 24,
   "id": "770de26b-2c16-48ee-a998-d41f34f45dd1",
   "metadata": {},
   "outputs": [
    {
     "data": {
      "text/plain": [
       "sequenceFlow has no targetRef attrib                              13969\n",
       "sequenceFlow has no sourceRef attrib                              13705\n",
       "messageFlow has no sourceRef attrib                                4991\n",
       "association has no targetRef attrib                                4806\n",
       "messageFlow has no targetRef attrib                                4680\n",
       "association has no sourceRef attrib                                4518\n",
       "Duplicate model element id                                         1090\n",
       "Association has another association as src or target                627\n",
       "Invalid endEvent with multiple event definitions                    215\n",
       "Invalid intermediateThrowEvent with multiple event definitions      214\n",
       "Invalid boundaryEvent with multiple event definitions                57\n",
       "Missing model element                                                44\n",
       "BPMN Choreography diagrams are not implemented.                      13\n",
       "sequenceFlow without waypoints                                       11\n",
       "AssertionError                                                        6\n",
       "messageFlow without waypoints                                         5\n",
       "TypeError                                                             2\n",
       "Name: error_type, dtype: int64"
      ]
     },
     "execution_count": 24,
     "metadata": {},
     "output_type": "execute_result"
    }
   ],
   "source": [
    "df.error_type.value_counts()"
   ]
  },
  {
   "cell_type": "code",
   "execution_count": 25,
   "id": "fbb0014b-86ca-4c12-8277-929ca8711084",
   "metadata": {},
   "outputs": [
    {
     "data": {
      "text/html": [
       "<div>\n",
       "<style scoped>\n",
       "    .dataframe tbody tr th:only-of-type {\n",
       "        vertical-align: middle;\n",
       "    }\n",
       "\n",
       "    .dataframe tbody tr th {\n",
       "        vertical-align: top;\n",
       "    }\n",
       "\n",
       "    .dataframe thead th {\n",
       "        text-align: right;\n",
       "    }\n",
       "</style>\n",
       "<table border=\"1\" class=\"dataframe\">\n",
       "  <thead>\n",
       "    <tr style=\"text-align: right;\">\n",
       "      <th></th>\n",
       "      <th>shapes</th>\n",
       "      <th>edges</th>\n",
       "    </tr>\n",
       "  </thead>\n",
       "  <tbody>\n",
       "    <tr>\n",
       "      <th>count</th>\n",
       "      <td>486918.000000</td>\n",
       "      <td>486918.000000</td>\n",
       "    </tr>\n",
       "    <tr>\n",
       "      <th>mean</th>\n",
       "      <td>22.092650</td>\n",
       "      <td>21.695688</td>\n",
       "    </tr>\n",
       "    <tr>\n",
       "      <th>std</th>\n",
       "      <td>18.228675</td>\n",
       "      <td>19.997346</td>\n",
       "    </tr>\n",
       "    <tr>\n",
       "      <th>min</th>\n",
       "      <td>0.000000</td>\n",
       "      <td>0.000000</td>\n",
       "    </tr>\n",
       "    <tr>\n",
       "      <th>25%</th>\n",
       "      <td>15.000000</td>\n",
       "      <td>13.000000</td>\n",
       "    </tr>\n",
       "    <tr>\n",
       "      <th>50%</th>\n",
       "      <td>20.000000</td>\n",
       "      <td>19.000000</td>\n",
       "    </tr>\n",
       "    <tr>\n",
       "      <th>75%</th>\n",
       "      <td>23.000000</td>\n",
       "      <td>25.000000</td>\n",
       "    </tr>\n",
       "    <tr>\n",
       "      <th>max</th>\n",
       "      <td>1873.000000</td>\n",
       "      <td>2066.000000</td>\n",
       "    </tr>\n",
       "  </tbody>\n",
       "</table>\n",
       "</div>"
      ],
      "text/plain": [
       "              shapes          edges\n",
       "count  486918.000000  486918.000000\n",
       "mean       22.092650      21.695688\n",
       "std        18.228675      19.997346\n",
       "min         0.000000       0.000000\n",
       "25%        15.000000      13.000000\n",
       "50%        20.000000      19.000000\n",
       "75%        23.000000      25.000000\n",
       "max      1873.000000    2066.000000"
      ]
     },
     "execution_count": 25,
     "metadata": {},
     "output_type": "execute_result"
    }
   ],
   "source": [
    "df_no_err = df.query(\"not has_error\").copy()\n",
    "df_no_err.describe()"
   ]
  },
  {
   "cell_type": "code",
   "execution_count": 26,
   "id": "d94f4e51-89a9-4935-859b-3da3928f0b1d",
   "metadata": {},
   "outputs": [
    {
     "data": {
      "text/plain": [
       "0    11529\n",
       "1     1032\n",
       "2     1764\n",
       "3     2353\n",
       "4     4092\n",
       "5     5868\n",
       "6     6947\n",
       "7     8597\n",
       "8    11388\n",
       "9    10920\n",
       "Name: shapes, dtype: int64"
      ]
     },
     "execution_count": 26,
     "metadata": {},
     "output_type": "execute_result"
    }
   ],
   "source": [
    "df_no_err.shapes.value_counts().sort_index().head(10)"
   ]
  },
  {
   "cell_type": "code",
   "execution_count": 27,
   "id": "2f5625b2-0a53-4aab-a06e-2ece308b1d4d",
   "metadata": {},
   "outputs": [
    {
     "data": {
      "image/png": "[encoded data removed]",
      "text/plain": [
       "<Figure size 1200x400 with 1 Axes>"
      ]
     },
     "metadata": {
      "image/png": {
       "height": 355,
       "width": 1004
      }
     },
     "output_type": "display_data"
    }
   ],
   "source": [
    "plt.figure(figsize=(12,4))\n",
    "df_no_err.shapes.value_counts().reindex(np.arange(50)).plot.bar(ax=plt.gca());"
   ]
  },
  {
   "cell_type": "code",
   "execution_count": 28,
   "id": "f7c8ea26-4d83-4a1d-8085-2a53640e9bbf",
   "metadata": {},
   "outputs": [
    {
     "data": {
      "image/png": "[encoded data removed]",
      "text/plain": [
       "<Figure size 1200x400 with 1 Axes>"
      ]
     },
     "metadata": {
      "image/png": {
       "height": 355,
       "width": 1004
      }
     },
     "output_type": "display_data"
    }
   ],
   "source": [
    "plt.figure(figsize=(12,4))\n",
    "df_no_err.edges.value_counts().reindex(np.arange(50)).plot.bar(ax=plt.gca());"
   ]
  },
  {
   "cell_type": "code",
   "execution_count": 29,
   "id": "bb8d9a35-d0d3-478a-b9e8-63a1c0b92356",
   "metadata": {},
   "outputs": [
    {
     "data": {
      "text/plain": [
       "23-21    38165\n",
       "16-15    38093\n",
       "20-20    37948\n",
       "17-19    37903\n",
       "22-25    37544\n",
       "0-0      11529\n",
       "8-8       4132\n",
       "5-4       3467\n",
       "4-3       3041\n",
       "6-5       2559\n",
       "9-9       2422\n",
       "8-7       2334\n",
       "7-7       2223\n",
       "7-6       2110\n",
       "9-8       2056\n",
       "10-10     1972\n",
       "7-4       1903\n",
       "6-6       1818\n",
       "14-11     1801\n",
       "11-11     1799\n",
       "Name: shapes-edges, dtype: int64"
      ]
     },
     "execution_count": 29,
     "metadata": {},
     "output_type": "execute_result"
    }
   ],
   "source": [
    "df_no_err[\"shapes-edges\"] = df_no_err.shapes.map(str) + \"-\" + df_no_err.edges.map(str)\n",
    "se_vc = df_no_err[\"shapes-edges\"].value_counts()\n",
    "se_vc.sort_values(ascending=False).head(20)"
   ]
  },
  {
   "cell_type": "code",
   "execution_count": 30,
   "id": "dc320cc7-9542-487a-b1e9-e6b8b7ee2e68",
   "metadata": {},
   "outputs": [
    {
     "name": "stdout",
     "output_type": "stream",
     "text": [
      "9738.36\n"
     ]
    },
    {
     "data": {
      "text/plain": [
       "['23-21', '16-15', '20-20', '17-19', '22-25', '0-0']"
      ]
     },
     "execution_count": 30,
     "metadata": {},
     "output_type": "execute_result"
    }
   ],
   "source": [
    "cutoff = len(df_no_err) / 50\n",
    "print(cutoff)\n",
    "outliers = se_vc[se_vc > cutoff].index.tolist()\n",
    "if \"0-0\" not in outliers:\n",
    "    outliers.append(\"0-0\")\n",
    "outliers"
   ]
  },
  {
   "cell_type": "code",
   "execution_count": 31,
   "id": "ca283c28-2b76-40da-ba6c-8cdf85613e8d",
   "metadata": {},
   "outputs": [
    {
     "name": "stdout",
     "output_type": "stream",
     "text": [
      "fname\n",
      "0000150e890c45928d26584d491ada68.bpmn     True\n",
      "00001f477e9a4fb1b9dcb27e029a426d.bpmn    False\n",
      "00003a67300748639e4bc21398bb5ede.bpmn     True\n",
      "00005cea16fd426881c7f1619e30b804.bpmn     True\n",
      "0000c3ea6c58407dbfaeac9ef5e467e7.bpmn    False\n",
      "                                         ...  \n",
      "ffffc29ea95142e185189e9d35a51ad2.bpmn     True\n",
      "ffffcd5186bf4655b510ec28d21f0dc3.bpmn     True\n",
      "ffffe3bf630542ef846c139be1af7469.bpmn     True\n",
      "fffff2b0eafa4ecca0b00fb5c6ccb4ef.bpmn    False\n",
      "ffffffd24864440a8effa3cdb9d37cce.bpmn     True\n",
      "Name: shapes-edges, Length: 486918, dtype: bool\n"
     ]
    }
   ],
   "source": [
    "mask = ~df_no_err[\"shapes-edges\"].isin(outliers)\n",
    "df_no_err.loc[mask].reset_index()[\"fname\"].to_csv(\"fnames.csv\", index=False, header=False)\n",
    "print(mask)"
   ]
  }
 ],
 "metadata": {
  "kernelspec": {
   "display_name": "Python 3.10.4 ('pybpmn-parser')",
   "language": "python",
   "name": "python3"
  },
  "language_info": {
   "codemirror_mode": {
    "name": "ipython",
    "version": 3
   },
   "file_extension": ".py",
   "mimetype": "text/x-python",
   "name": "python",
   "nbconvert_exporter": "python",
   "pygments_lexer": "ipython3",
   "version": "3.10.4"
  },
  "vscode": {
   "interpreter": {
    "hash": "38e9e598465b675b19b82db6ee38926b8ea594824c93e386ca2eef6a710f5531"
   }
  }
 },
 "nbformat": 4,
 "nbformat_minor": 5
}
