{
 "cells": [
  {
   "cell_type": "code",
   "execution_count": 2,
   "metadata": {},
   "outputs": [],
   "source": [
    "# import useful packages\n",
    "from metabolabpy.nmr import nmrDataSet\n",
    "from matplotlib import pyplot as pl\n",
    "import numpy as np\n",
    "import os\n",
    "from jupyterthemes import jtplot\n",
    "jtplot.style()\n",
    "%matplotlib notebook"
   ]
  },
  {
   "cell_type": "code",
   "execution_count": 9,
   "metadata": {},
   "outputs": [],
   "source": [
    "# create NmrDataSet object, download sample spectrum, load into NmrDataSet object and plot\n",
    "nd = nmrDataSet.NmrDataSet()\n",
    "mlpy_file = os.path.join(os.getcwd(), \"sample_1d_spc.mlpy\")\n",
    "nd.load(mlpy_file)\n",
    "nd.set_standard_plot_colours()\n",
    "nd.keep_zoom = False\n",
    "nd.plot_spc()"
   ]
  },
  {
   "cell_type": "code",
   "execution_count": null,
   "metadata": {},
   "outputs": [],
   "source": []
  }
 ],
 "metadata": {
  "kernelspec": {
   "display_name": "Python 3 (ipykernel)",
   "language": "python",
   "name": "python3"
  },
  "language_info": {
   "codemirror_mode": {
    "name": "ipython",
    "version": 3
   },
   "file_extension": ".py",
   "mimetype": "text/x-python",
   "name": "python",
   "nbconvert_exporter": "python",
   "pygments_lexer": "ipython3",
   "version": "3.9.7"
  }
 },
 "nbformat": 4,
 "nbformat_minor": 4
}
