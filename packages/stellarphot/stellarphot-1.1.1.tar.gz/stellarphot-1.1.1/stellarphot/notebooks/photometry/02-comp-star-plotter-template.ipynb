{
 "cells": [
  {
   "cell_type": "markdown",
   "metadata": {},
   "source": [
    "# Comparison star generator"
   ]
  },
  {
   "cell_type": "markdown",
   "metadata": {},
   "source": [
    "## For information about your TESS target\n",
    "\n",
    "1. Go to https://exofop.ipac.caltech.edu/tess/\n",
    "2. Enter the TIC number in the TIC search box\n",
    "2. Use the RA/Dec for the `ra` and `dec` variables in the cell below.\n",
    "3. Use the \"TESS mag\" for the variable `Cmag` in the cell below.\n",
    "4. Use the \"depth\" for the variable `depth` in the cell below."
   ]
  },
  {
   "cell_type": "code",
   "execution_count": null,
   "metadata": {},
   "outputs": [],
   "source": [
    "import re\n",
    "\n",
    "import requests\n",
    "\n",
    "from astropy.coordinates import SkyCoord\n",
    "\n",
    "from stellarphot.visualization.comparison_functions import read_file, ComparisonViewer\n"
   ]
  },
  {
   "cell_type": "markdown",
   "metadata": {},
   "source": [
    "## Change the settings in this cell as needed"
   ]
  },
  {
   "cell_type": "code",
   "execution_count": null,
   "metadata": {},
   "outputs": [],
   "source": [
    "directory_with_images = '..'\n",
    "\n",
    "# 👉 This could be any image from roughly the middle of the sequence.\n",
    "sample_image_for_finding_stars = 'TIC_237205154.01-S001-R013-C001-rp.fit'\n",
    "\n",
    "# 👉 You will be able to use this name later to pull out the data you want\n",
    "object_of_interest = 'TIC_237205154.01'\n",
    "\n",
    "# 👉 Get these variable from ExoFOP-TESS or Exoplanet ETD\n",
    " \n",
    "ra_object = '19:34:19.97'\n",
    "dec_object = '76:39:39.91'\n",
    "\n",
    "Cmag = 13.0024 # 👉 Use TESS magnitude from ExoFOP-TESSfor this\n",
    "depth = 16908.821 / 1000 # 👉 Depth should be in parts per thousand, ExoFOP gives it in ppm.\n",
    "\n",
    "bright_mag_limit = 9\n",
    "dim_mag_limit = 16\n",
    "\n",
    "# 👉 File to save apertures in\n",
    "aperture_output_file = 'aperture_locations.fits'\n",
    "\n",
    "TESS_target = True  # change to False (capitalized) if this is NOT a TESS object\n",
    "\n",
    "if TESS_target:\n",
    "    server = \"https://www.astro.louisville.edu\"\n",
    "    gaia_aperture_url = server + f\"/cgi-bin/gaia_to_aij/upload_request.cgi?ra={ra_object}&dec={dec_object}&mag={Cmag}&depth={depth}\"\n",
    "\n",
    "    result = requests.get(gaia_aperture_url)\n",
    "    links = re.search('href=\"(.+)\"', result.text.replace('\\n', ''), )\n",
    "\n",
    "    target_file_contents = requests.get(server + links[1])\n",
    "    with open('gaia_stars.radec', 'wt') as f:\n",
    "        f.write(target_file_contents.text)\n",
    "    targets_from_file = read_file('gaia_stars.radec')\n",
    "else:\n",
    "    targets_from_file = []"
   ]
  },
  {
   "cell_type": "code",
   "execution_count": null,
   "metadata": {},
   "outputs": [],
   "source": [
    "coordinate = SkyCoord(ra=ra_object, dec=dec_object, unit=(\"hour\", \"degree\"))"
   ]
  },
  {
   "cell_type": "code",
   "execution_count": null,
   "metadata": {},
   "outputs": [],
   "source": [
    "comp_viewer = ComparisonViewer(sample_image_for_finding_stars,\n",
    "                           directory=directory_with_images,\n",
    "                           target_mag=Cmag,\n",
    "                           bright_mag_limit=bright_mag_limit,\n",
    "                           dim_mag_limit=dim_mag_limit,\n",
    "                           targets_from_file=targets_from_file,\n",
    "                           object_coordinate=coordinate\n",
    "                          )\n",
    "comp_viewer.box"
   ]
  },
  {
   "cell_type": "markdown",
   "metadata": {
    "tags": []
   },
   "source": [
    "### Get the table of marked stars."
   ]
  },
  {
   "cell_type": "code",
   "execution_count": null,
   "metadata": {},
   "outputs": [],
   "source": [
    "comp_table = comp_viewer.generate_table()"
   ]
  },
  {
   "cell_type": "markdown",
   "metadata": {},
   "source": [
    "### Display information on variables"
   ]
  },
  {
   "cell_type": "code",
   "execution_count": null,
   "metadata": {},
   "outputs": [],
   "source": [
    "comp_viewer.variables"
   ]
  },
  {
   "cell_type": "markdown",
   "metadata": {},
   "source": [
    "### Add 2.5 arcmin circle (do this after writing comparison table!)\n",
    "\n",
    "Otherwise the comparison table will contain an extra entry for this circle."
   ]
  },
  {
   "cell_type": "code",
   "execution_count": null,
   "metadata": {},
   "outputs": [],
   "source": [
    "comp_viewer.show_circle()"
   ]
  },
  {
   "cell_type": "code",
   "execution_count": null,
   "metadata": {},
   "outputs": [],
   "source": [
    "comp_viewer.remove_circle()"
   ]
  },
  {
   "cell_type": "code",
   "execution_count": null,
   "metadata": {},
   "outputs": [],
   "source": [
    "comp_viewer.show_labels()"
   ]
  },
  {
   "cell_type": "code",
   "execution_count": null,
   "metadata": {},
   "outputs": [],
   "source": [
    "comp_viewer.remove_labels()"
   ]
  },
  {
   "cell_type": "code",
   "execution_count": null,
   "metadata": {},
   "outputs": [],
   "source": [
    "comp_table.write(aperture_output_file, overwrite=True)"
   ]
  },
  {
   "cell_type": "code",
   "execution_count": null,
   "metadata": {},
   "outputs": [],
   "source": []
  }
 ],
 "metadata": {
  "kernelspec": {
   "display_name": "Python 3 (ipykernel)",
   "language": "python",
   "name": "python3"
  },
  "language_info": {
   "codemirror_mode": {
    "name": "ipython",
    "version": 3
   },
   "file_extension": ".py",
   "mimetype": "text/x-python",
   "name": "python",
   "nbconvert_exporter": "python",
   "pygments_lexer": "ipython3",
   "version": "3.10.5"
  }
 },
 "nbformat": 4,
 "nbformat_minor": 4
}
