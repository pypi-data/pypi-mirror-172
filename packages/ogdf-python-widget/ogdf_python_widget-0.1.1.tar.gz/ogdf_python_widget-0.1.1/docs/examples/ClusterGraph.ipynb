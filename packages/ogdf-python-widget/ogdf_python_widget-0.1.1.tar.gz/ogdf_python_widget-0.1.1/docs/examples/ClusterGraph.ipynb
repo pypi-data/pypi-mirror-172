{
 "cells": [
  {
   "cell_type": "code",
   "execution_count": null,
   "id": "0c37b39c",
   "metadata": {
    "scrolled": false
   },
   "outputs": [],
   "source": [
    "from ogdf_python import ogdf, cppinclude, cppyy\n",
    "from ogdf_python_widget.widget import Widget\n",
    "import ogdf_python_widget\n",
    "\n",
    "cppinclude(\"ogdf/layered/SugiyamaLayout.h\")\n",
    "\n",
    "G = ogdf.Graph()\n",
    "G.__python_owns__ = False\n",
    "CG = ogdf.ClusterGraph(G)\n",
    "CG.__python_owns__ = False\n",
    "\n",
    "CGA = ogdf.ClusterGraphAttributes(CG, ogdf.ClusterGraphAttributes.all)\n",
    "CGA.__python_owns__ = False\n",
    "\n",
    "ogdf.GraphIO.readGML(CGA, CG, G, cppyy.gbl.std.ifstream(\"clusterGraph.gml\"))\n",
    "\n",
    "colors = [ogdf.Color(255, 255, 255), ogdf.Color(0, 0, 0), ogdf.Color(255, 0, 0), ogdf.Color(0, 255, 0), ogdf.Color(0, 0, 255),ogdf.Color(255, 0, 255)]\n",
    "\n",
    "for n in G.nodes:\n",
    "    CGA.label[n] = \"N%s\" % n.index()\n",
    "    CGA.idNode[n] = n.index()\n",
    "    \n",
    "for cluster in CG.clusters:\n",
    "    for node in cluster.nodes:\n",
    "        CGA.fillColor[node] = colors[cluster.index()]\n",
    "\n",
    "SL = ogdf.SugiyamaLayout()\n",
    "SL.call(CGA)\n",
    "\n",
    "from ogdf_python_widget.widget import Widget\n",
    "\n",
    "w = Widget(CGA, True)\n",
    "\n",
    "\n",
    "def clickSvg(x, y, alt, ctrl, backgroundClicked):\n",
    "    global w\n",
    "    coords = w.svgCoords_to_graphCoords(x,y)\n",
    "    print(coords)\n",
    "    if ctrl:\n",
    "        n = w.graph_attributes.constGraph().newNode()\n",
    "        w.graph_attributes.x[n] = coords['x']\n",
    "        w.graph_attributes.y[n] = coords['y']\n",
    "        w.graph_attributes.label[n] = \"N%s\" % n.index()\n",
    "        w.update_node(n, False)\n",
    "        \n",
    "def clickNode(node, alt, ctrl):\n",
    "    global w\n",
    "    print(w.node_to_dict(node))\n",
    "    if alt:\n",
    "        #deletes node when clicking on it while holding alt key\n",
    "        w.graph_attributes.constGraph().delNode(node)\n",
    "        \n",
    "def clickCluster(cluster, alt, ctrl):\n",
    "    global w\n",
    "    w.move_cluster(str(cluster.index()))\n",
    "\n",
    "w.on_svg_click_callback = clickSvg    \n",
    "w.on_node_click_callback = clickNode\n",
    "w.on_cluster_click_callback = clickCluster\n",
    "\n",
    "w"
   ]
  },
  {
   "cell_type": "code",
   "execution_count": null,
   "id": "5f5cf750",
   "metadata": {},
   "outputs": [],
   "source": [
    "CGA"
   ]
  },
  {
   "cell_type": "code",
   "execution_count": null,
   "id": "43156d70",
   "metadata": {},
   "outputs": [],
   "source": [
    "w.start_force_directed()"
   ]
  },
  {
   "cell_type": "code",
   "execution_count": null,
   "id": "d1ac46e1",
   "metadata": {},
   "outputs": [],
   "source": [
    "w.stop_force_directed()"
   ]
  },
  {
   "cell_type": "code",
   "execution_count": null,
   "id": "9b57dbb7",
   "metadata": {},
   "outputs": [],
   "source": [
    "w.download_svg()"
   ]
  },
  {
   "cell_type": "code",
   "execution_count": null,
   "id": "d198fc3d",
   "metadata": {},
   "outputs": [],
   "source": [
    "w.move_cluster('3')"
   ]
  },
  {
   "cell_type": "code",
   "execution_count": null,
   "id": "6cc0846c",
   "metadata": {},
   "outputs": [],
   "source": [
    "w.remove_all_cluster_movers()"
   ]
  },
  {
   "cell_type": "code",
   "execution_count": null,
   "id": "64d756cb",
   "metadata": {},
   "outputs": [],
   "source": [
    "w.node_movement_enabled = True"
   ]
  },
  {
   "cell_type": "code",
   "execution_count": null,
   "id": "a46b2f3c",
   "metadata": {},
   "outputs": [],
   "source": [
    "w.send({'code': 'deleteClusterById', 'data': '3'})"
   ]
  },
  {
   "cell_type": "code",
   "execution_count": null,
   "id": "925c2b27",
   "metadata": {},
   "outputs": [],
   "source": [
    "w.send({'code': 'addClusterById', 'data': \n",
    "        {\n",
    "   'id':'6',\n",
    "   'parentId':'5',\n",
    "   'name':'',\n",
    "   'x':86,\n",
    "   'y':354,\n",
    "   'clusterWidth':205.9999999999998,\n",
    "   'clusterHeight':177.66666666666674,\n",
    "   'strokeColor':{\n",
    "      'r':128,\n",
    "      'g':128,\n",
    "      'b':128,\n",
    "      'a':255\n",
    "   },\n",
    "   'strokeWidth':1.0,\n",
    "   'children':[\n",
    "      \n",
    "   ],\n",
    "   'nodes':[\n",
    "      '64',\n",
    "      '42',\n",
    "      '43'\n",
    "   ]\n",
    "}})"
   ]
  },
  {
   "cell_type": "code",
   "execution_count": null,
   "id": "d880750a",
   "metadata": {},
   "outputs": [],
   "source": [
    "w.send({'code': 'test'})"
   ]
  }
 ],
 "metadata": {
  "kernelspec": {
   "display_name": "Python 3 (ipykernel)",
   "language": "python",
   "name": "python3"
  },
  "language_info": {
   "codemirror_mode": {
    "name": "ipython",
    "version": 3
   },
   "file_extension": ".py",
   "mimetype": "text/x-python",
   "name": "python",
   "nbconvert_exporter": "python",
   "pygments_lexer": "ipython3",
   "version": "3.9.6"
  }
 },
 "nbformat": 4,
 "nbformat_minor": 5
}
