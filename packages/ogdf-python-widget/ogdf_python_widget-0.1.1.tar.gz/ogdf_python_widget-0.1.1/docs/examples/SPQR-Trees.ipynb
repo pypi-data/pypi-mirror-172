{
 "cells": [
  {
   "cell_type": "code",
   "execution_count": null,
   "id": "fe4e4785",
   "metadata": {
    "scrolled": false
   },
   "outputs": [],
   "source": [
    "from ogdf_python import ogdf, cppinclude, cppyy\n",
    "from ogdf_python_widget.widget import Widget\n",
    "import ogdf_python_widget\n",
    "\n",
    "cppinclude(\"ogdf/basic/graph_generators/randomized.h\")\n",
    "cppinclude(\"ogdf/decomposition/DynamicSPQRTree.h\")\n",
    "\n",
    "####################################################################################\n",
    "\n",
    "G = ogdf.Graph()\n",
    "GA = ogdf.GraphAttributes(G, ogdf.GraphAttributes.all)\n",
    "\n",
    "ogdf.GraphIO.readGML(GA, G, cppyy.gbl.std.ifstream(\"spqrExample.gml\"))\n",
    "\n",
    "for n in G.nodes:\n",
    "    GA.label[n] = \"N%s\" % n.index()\n",
    "    GA.idNode[n] = n.index()\n",
    "    \n",
    "w = Widget(GA, True)\n",
    "\n",
    "SPQR = ogdf.DynamicSPQRTree(G)\n",
    "\n",
    "w2 = Widget(SPQR, True)"
   ]
  },
  {
   "cell_type": "code",
   "execution_count": null,
   "id": "cf5b5af4",
   "metadata": {
    "scrolled": false
   },
   "outputs": [],
   "source": [
    "w2"
   ]
  },
  {
   "cell_type": "code",
   "execution_count": null,
   "id": "096dd80b",
   "metadata": {},
   "outputs": [],
   "source": [
    "w2.node_movement_enabled = True\n",
    "w2.start_force_directed()"
   ]
  },
  {
   "cell_type": "code",
   "execution_count": null,
   "id": "ab47be05",
   "metadata": {},
   "outputs": [],
   "source": [
    "w2.stop_force_directed()"
   ]
  },
  {
   "cell_type": "code",
   "execution_count": null,
   "id": "d3a831d9",
   "metadata": {},
   "outputs": [],
   "source": [
    "GA"
   ]
  },
  {
   "cell_type": "code",
   "execution_count": null,
   "id": "3b8491a9",
   "metadata": {},
   "outputs": [],
   "source": [
    "w2.export_spqr('test3')"
   ]
  },
  {
   "cell_type": "code",
   "execution_count": null,
   "id": "cebd9cd8",
   "metadata": {},
   "outputs": [],
   "source": [
    "w2.import_spqr('/home/user/Downloads/test3.json')"
   ]
  }
 ],
 "metadata": {
  "kernelspec": {
   "display_name": "Python 3 (ipykernel)",
   "language": "python",
   "name": "python3"
  },
  "language_info": {
   "codemirror_mode": {
    "name": "ipython",
    "version": 3
   },
   "file_extension": ".py",
   "mimetype": "text/x-python",
   "name": "python",
   "nbconvert_exporter": "python",
   "pygments_lexer": "ipython3",
   "version": "3.9.6"
  }
 },
 "nbformat": 4,
 "nbformat_minor": 5
}
