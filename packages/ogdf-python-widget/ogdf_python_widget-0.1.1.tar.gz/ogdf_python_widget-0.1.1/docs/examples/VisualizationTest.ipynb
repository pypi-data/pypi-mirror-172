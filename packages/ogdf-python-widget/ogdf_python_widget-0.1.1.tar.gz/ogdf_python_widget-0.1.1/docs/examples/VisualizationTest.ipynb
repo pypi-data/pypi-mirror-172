{
 "cells": [
  {
   "cell_type": "code",
   "execution_count": null,
   "id": "7528e762",
   "metadata": {
    "scrolled": false
   },
   "outputs": [],
   "source": [
    "from ogdf_python import ogdf, cppinclude\n",
    "from ogdf_python_widget.widget import Widget\n",
    "import ogdf_python_widget\n",
    "cppinclude(\"ogdf/basic/graph_generators/randomized.h\")\n",
    "cppinclude(\"ogdf/layered/SugiyamaLayout.h\")\n",
    "\n",
    "G = ogdf.Graph()\n",
    "ogdf.setSeed(1)\n",
    "ogdf.randomPlanarTriconnectedGraph(G, 20, 40)\n",
    "GA = ogdf.GraphAttributes(G, ogdf.GraphAttributes.all)\n",
    "\n",
    "for n in G.nodes:\n",
    "    GA.label[n] = \"N%s\" % n.index()\n",
    "\n",
    "SL = ogdf.SugiyamaLayout()\n",
    "SL.call(GA)\n",
    "G"
   ]
  },
  {
   "cell_type": "code",
   "execution_count": null,
   "id": "d973c51d",
   "metadata": {},
   "outputs": [],
   "source": [
    "GA"
   ]
  },
  {
   "cell_type": "code",
   "execution_count": null,
   "id": "231a4482",
   "metadata": {},
   "outputs": [],
   "source": []
  }
 ],
 "metadata": {
  "kernelspec": {
   "display_name": "Python 3 (ipykernel)",
   "language": "python",
   "name": "python3"
  },
  "language_info": {
   "codemirror_mode": {
    "name": "ipython",
    "version": 3
   },
   "file_extension": ".py",
   "mimetype": "text/x-python",
   "name": "python",
   "nbconvert_exporter": "python",
   "pygments_lexer": "ipython3",
   "version": "3.9.6"
  }
 },
 "nbformat": 4,
 "nbformat_minor": 5
}
