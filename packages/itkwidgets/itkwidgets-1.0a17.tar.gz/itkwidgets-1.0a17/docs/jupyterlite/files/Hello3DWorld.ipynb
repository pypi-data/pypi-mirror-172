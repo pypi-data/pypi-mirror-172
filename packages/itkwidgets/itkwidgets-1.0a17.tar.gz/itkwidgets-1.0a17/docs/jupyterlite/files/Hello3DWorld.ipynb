{
  "metadata": {
    "kernelspec": {
      "name": "python",
      "display_name": "Python (Pyodide)",
      "language": "python"
    },
    "language_info": {
      "codemirror_mode": {
        "name": "python",
        "version": 3
      },
      "file_extension": ".py",
      "mimetype": "text/x-python",
      "name": "python",
      "nbconvert_exporter": "python",
      "pygments_lexer": "ipython3",
      "version": "3.8"
    }
  },
  "nbformat_minor": 5,
  "nbformat": 4,
  "cells": [
    {
      "cell_type": "code",
      "source": "import piplite\nawait piplite.install('itkwidgets==1.0a5')",
      "metadata": {
        "trusted": true
      },
      "execution_count": 2,
      "outputs": [],
      "id": "e95388a9-93a6-4e29-bf44-e57a5c5683ab"
    },
    {
      "cell_type": "code",
      "source": "from itkwidgets import view\nimport imageio.v2 as imageio",
      "metadata": {
        "trusted": true
      },
      "execution_count": 3,
      "outputs": [],
      "id": "c3c5eb6e"
    },
    {
      "cell_type": "code",
      "source": "stent = imageio.imread('imageio:stent.npz')",
      "metadata": {
        "trusted": true
      },
      "execution_count": 4,
      "outputs": [],
      "id": "1bc45207"
    },
    {
      "cell_type": "code",
      "source": "view(stent, rotate=True)",
      "metadata": {
        "trusted": true
      },
      "execution_count": 5,
      "outputs": [
        {
          "output_type": "display_data",
          "data": {
            "text/plain": "<IPython.core.display.Javascript object>",
            "application/javascript": "window.connectPlugin && window.connectPlugin(\"3abf64f7-6e01-4955-8edc-f91265e8fc16\")"
          },
          "metadata": {}
        },
        {
          "output_type": "display_data",
          "data": {
            "text/plain": "<IPython.core.display.HTML object>",
            "text/html": "<div id=\"ad0bc621-d53f-4f27-99bd-32a0548341d3\"></div>"
          },
          "metadata": {}
        },
        {
          "execution_count": 6,
          "output_type": "execute_result",
          "data": {
            "text/plain": "<itkwidgets.viewer.Viewer at 0x384df88>"
          },
          "metadata": {}
        }
      ],
      "id": "26582452"
    }
  ]
}
