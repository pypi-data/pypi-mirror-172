{
 "cells": [
  {
   "cell_type": "code",
   "execution_count": null,
   "id": "9e3173e3-0ad5-4da8-b614-83cf03de2906",
   "metadata": {},
   "outputs": [],
   "source": [
    "from jupyter_cadquery.viewer.server import start_viewer\n",
    "start_viewer()"
   ]
  }
 ],
 "metadata": {
  "kernelspec": {
   "display_name": "jcv",
   "language": "python",
   "name": "jcv"
  },
  "language_info": {
   "codemirror_mode": {
    "name": "ipython",
    "version": 3
   },
   "file_extension": ".py",
   "mimetype": "text/x-python",
   "name": "python",
   "nbconvert_exporter": "python",
   "pygments_lexer": "ipython3",
   "version": "3.8.8"
  }
 },
 "nbformat": 4,
 "nbformat_minor": 5
}
