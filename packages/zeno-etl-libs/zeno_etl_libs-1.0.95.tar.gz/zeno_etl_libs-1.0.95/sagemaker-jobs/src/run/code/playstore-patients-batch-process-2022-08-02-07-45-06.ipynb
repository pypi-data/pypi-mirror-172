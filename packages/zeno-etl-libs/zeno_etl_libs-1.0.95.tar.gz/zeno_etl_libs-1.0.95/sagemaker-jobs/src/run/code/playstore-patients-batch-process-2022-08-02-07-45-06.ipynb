{
 "cells": [
  {
   "cell_type": "code",
   "execution_count": 1,
   "id": "19683e3b-f9d8-462f-b881-2ca3e90b409d",
   "metadata": {
    "execution": {
     "iopub.execute_input": "2022-08-02T07:50:08.949469Z",
     "iopub.status.busy": "2022-08-02T07:50:08.948400Z",
     "iopub.status.idle": "2022-08-02T07:50:18.100562Z",
     "shell.execute_reply": "2022-08-02T07:50:18.099502Z"
    },
    "papermill": {
     "duration": 9.160847,
     "end_time": "2022-08-02T07:50:18.102921",
     "exception": false,
     "start_time": "2022-08-02T07:50:08.942074",
     "status": "completed"
    },
    "tags": []
   },
   "outputs": [
    {
     "name": "stdout",
     "output_type": "stream",
     "text": [
      "Collecting Levenshtein==0.17.0\r\n",
      "  Downloading Levenshtein-0.17.0-cp37-cp37m-manylinux_2_17_x86_64.manylinux2014_x86_64.whl (110 kB)\r\n",
      "\u001b[?25l     \u001b[90m━━━━━━━━━━━━━━━━━━━━━━━━━━━━━━━━━━━━━━━━\u001b[0m \u001b[32m0.0/110.5 kB\u001b[0m \u001b[31m?\u001b[0m eta \u001b[36m-:--:--\u001b[0m"
     ]
    },
    {
     "name": "stdout",
     "output_type": "stream",
     "text": [
      "\r",
      "\u001b[2K     \u001b[90m━━━━━━━━━━━━━━━━━━━━━━━━━━━━━━━━━━━━━━\u001b[0m \u001b[32m110.5/110.5 kB\u001b[0m \u001b[31m17.8 MB/s\u001b[0m eta \u001b[36m0:00:00\u001b[0m\r\n",
      "\u001b[?25h"
     ]
    },
    {
     "name": "stdout",
     "output_type": "stream",
     "text": [
      "Collecting rapidfuzz<2.0,>=1.8.2\r\n",
      "  Downloading rapidfuzz-1.9.1-cp37-cp37m-manylinux_2_12_x86_64.manylinux2010_x86_64.whl (893 kB)\r\n",
      "\u001b[?25l     \u001b[90m━━━━━━━━━━━━━━━━━━━━━━━━━━━━━━━━━━━━━━━━\u001b[0m \u001b[32m0.0/893.5 kB\u001b[0m \u001b[31m?\u001b[0m eta \u001b[36m-:--:--\u001b[0m"
     ]
    },
    {
     "name": "stdout",
     "output_type": "stream",
     "text": [
      "\r",
      "\u001b[2K     \u001b[90m━━━━━━━━━━━━━━━━━━━━━━━━━━━━━━━━━━━━━━\u001b[0m \u001b[32m893.5/893.5 kB\u001b[0m \u001b[31m61.1 MB/s\u001b[0m eta \u001b[36m0:00:00\u001b[0m\r\n",
      "\u001b[?25h"
     ]
    },
    {
     "name": "stdout",
     "output_type": "stream",
     "text": [
      "Installing collected packages: rapidfuzz, Levenshtein\r\n"
     ]
    },
    {
     "name": "stdout",
     "output_type": "stream",
     "text": [
      "Successfully installed Levenshtein-0.17.0 rapidfuzz-1.9.1\r\n",
      "\u001b[33mWARNING: Running pip as the 'root' user can result in broken permissions and conflicting behaviour with the system package manager. It is recommended to use a virtual environment instead: https://pip.pypa.io/warnings/venv\u001b[0m\u001b[33m\r\n",
      "\u001b[0m"
     ]
    },
    {
     "name": "stdout",
     "output_type": "stream",
     "text": [
      "\r\n",
      "\u001b[1m[\u001b[0m\u001b[34;49mnotice\u001b[0m\u001b[1;39;49m]\u001b[0m\u001b[39;49m A new release of pip available: \u001b[0m\u001b[31;49m22.1.2\u001b[0m\u001b[39;49m -> \u001b[0m\u001b[32;49m22.2.1\u001b[0m\r\n",
      "\u001b[1m[\u001b[0m\u001b[34;49mnotice\u001b[0m\u001b[1;39;49m]\u001b[0m\u001b[39;49m To update, run: \u001b[0m\u001b[32;49mpip install --upgrade pip\u001b[0m\r\n"
     ]
    },
    {
     "name": "stdout",
     "output_type": "stream",
     "text": [
      "Collecting zeno-etl-libs==1.0.51\r\n"
     ]
    },
    {
     "name": "stdout",
     "output_type": "stream",
     "text": [
      "  Downloading zeno_etl_libs-1.0.51-py3-none-any.whl (207 kB)\r\n",
      "\u001b[?25l     \u001b[90m━━━━━━━━━━━━━━━━━━━━━━━━━━━━━━━━━━━━━━━━\u001b[0m \u001b[32m0.0/207.1 kB\u001b[0m \u001b[31m?\u001b[0m eta \u001b[36m-:--:--\u001b[0m\r",
      "\u001b[2K     \u001b[91m━━━━━━━━━━━━━━━━━\u001b[0m\u001b[91m╸\u001b[0m\u001b[90m━━━━━━━━━━━━━━━━━━━━━━\u001b[0m \u001b[32m92.2/207.1 kB\u001b[0m \u001b[31m3.2 MB/s\u001b[0m eta \u001b[36m0:00:01\u001b[0m"
     ]
    },
    {
     "name": "stdout",
     "output_type": "stream",
     "text": [
      "\r",
      "\u001b[2K     \u001b[90m━━━━━━━━━━━━━━━━━━━━━━━━━━━━━━━━━━━━━━━\u001b[0m \u001b[32m207.1/207.1 kB\u001b[0m \u001b[31m3.9 MB/s\u001b[0m eta \u001b[36m0:00:00\u001b[0m\r\n",
      "\u001b[?25h"
     ]
    },
    {
     "name": "stdout",
     "output_type": "stream",
     "text": [
      "Installing collected packages: zeno-etl-libs\r\n"
     ]
    },
    {
     "name": "stdout",
     "output_type": "stream",
     "text": [
      "Successfully installed zeno-etl-libs-1.0.51\r\n",
      "\u001b[33mWARNING: Running pip as the 'root' user can result in broken permissions and conflicting behaviour with the system package manager. It is recommended to use a virtual environment instead: https://pip.pypa.io/warnings/venv\u001b[0m\u001b[33m\r\n",
      "\u001b[0m\r\n",
      "\u001b[1m[\u001b[0m\u001b[34;49mnotice\u001b[0m\u001b[1;39;49m]\u001b[0m\u001b[39;49m A new release of pip available: \u001b[0m\u001b[31;49m22.1.2\u001b[0m\u001b[39;49m -> \u001b[0m\u001b[32;49m22.2.1\u001b[0m\r\n",
      "\u001b[1m[\u001b[0m\u001b[34;49mnotice\u001b[0m\u001b[1;39;49m]\u001b[0m\u001b[39;49m To update, run: \u001b[0m\u001b[32;49mpip install --upgrade pip\u001b[0m\r\n"
     ]
    },
    {
     "name": "stdout",
     "output_type": "stream",
     "text": [
      "Collecting openpyxl==3.0.10\r\n"
     ]
    },
    {
     "name": "stdout",
     "output_type": "stream",
     "text": [
      "  Downloading openpyxl-3.0.10-py2.py3-none-any.whl (242 kB)\r\n",
      "\u001b[?25l     \u001b[90m━━━━━━━━━━━━━━━━━━━━━━━━━━━━━━━━━━━━━━━━\u001b[0m \u001b[32m0.0/242.1 kB\u001b[0m \u001b[31m?\u001b[0m eta \u001b[36m-:--:--\u001b[0m"
     ]
    },
    {
     "name": "stdout",
     "output_type": "stream",
     "text": [
      "\r",
      "\u001b[2K     \u001b[91m━━━━━━━━━━━━━━━\u001b[0m\u001b[90m╺\u001b[0m\u001b[90m━━━━━━━━━━━━━━━━━━━━━━━━\u001b[0m \u001b[32m92.2/242.1 kB\u001b[0m \u001b[31m3.3 MB/s\u001b[0m eta \u001b[36m0:00:01\u001b[0m\r",
      "\u001b[2K     \u001b[90m━━━━━━━━━━━━━━━━━━━━━━━━━━━━━━━━━━━━━━━\u001b[0m \u001b[32m242.1/242.1 kB\u001b[0m \u001b[31m4.4 MB/s\u001b[0m eta \u001b[36m0:00:00\u001b[0m\r\n",
      "\u001b[?25hCollecting et-xmlfile\r\n"
     ]
    },
    {
     "name": "stdout",
     "output_type": "stream",
     "text": [
      "  Downloading et_xmlfile-1.1.0-py3-none-any.whl (4.7 kB)\r\n"
     ]
    },
    {
     "name": "stdout",
     "output_type": "stream",
     "text": [
      "Installing collected packages: et-xmlfile, openpyxl\r\n"
     ]
    },
    {
     "name": "stdout",
     "output_type": "stream",
     "text": [
      "Successfully installed et-xmlfile-1.1.0 openpyxl-3.0.10\r\n",
      "\u001b[33mWARNING: Running pip as the 'root' user can result in broken permissions and conflicting behaviour with the system package manager. It is recommended to use a virtual environment instead: https://pip.pypa.io/warnings/venv\u001b[0m\u001b[33m\r\n",
      "\u001b[0m"
     ]
    },
    {
     "name": "stdout",
     "output_type": "stream",
     "text": [
      "\r\n",
      "\u001b[1m[\u001b[0m\u001b[34;49mnotice\u001b[0m\u001b[1;39;49m]\u001b[0m\u001b[39;49m A new release of pip available: \u001b[0m\u001b[31;49m22.1.2\u001b[0m\u001b[39;49m -> \u001b[0m\u001b[32;49m22.2.1\u001b[0m\r\n",
      "\u001b[1m[\u001b[0m\u001b[34;49mnotice\u001b[0m\u001b[1;39;49m]\u001b[0m\u001b[39;49m To update, run: \u001b[0m\u001b[32;49mpip install --upgrade pip\u001b[0m\r\n"
     ]
    }
   ],
   "source": [
    "# Only on stage and prod\n",
    "!pip install Levenshtein==0.17.0\n",
    "!pip install zeno-etl-libs==1.0.51\n",
    "!pip install openpyxl==3.0.10"
   ]
  },
  {
   "cell_type": "code",
   "execution_count": 2,
   "id": "d6aa4c66-16c9-4c2a-965f-67bf3705eabf",
   "metadata": {
    "execution": {
     "iopub.execute_input": "2022-08-02T07:50:18.115449Z",
     "iopub.status.busy": "2022-08-02T07:50:18.114997Z",
     "iopub.status.idle": "2022-08-02T07:50:18.129003Z",
     "shell.execute_reply": "2022-08-02T07:50:18.127835Z"
    },
    "papermill": {
     "duration": 0.026776,
     "end_time": "2022-08-02T07:50:18.135131",
     "exception": false,
     "start_time": "2022-08-02T07:50:18.108355",
     "status": "completed"
    },
    "tags": []
   },
   "outputs": [
    {
     "data": {
      "text/plain": [
       "'\\nPurpose: Fuzzy match to get patient names and store these patients in table,\\nand finally email the data on regular basis.\\n\\nauthor : neha.karekar@zeno.health\\n'"
      ]
     },
     "execution_count": 2,
     "metadata": {},
     "output_type": "execute_result"
    }
   ],
   "source": [
    "\"\"\"\n",
    "Purpose: Fuzzy match to get patient names and store these patients in table,\n",
    "and finally email the data on regular basis.\n",
    "\n",
    "author : neha.karekar@zeno.health\n",
    "\"\"\""
   ]
  },
  {
   "cell_type": "code",
   "execution_count": 3,
   "id": "9cf98df5-b7c7-4eef-897d-ef6ba03a0f7a",
   "metadata": {
    "execution": {
     "iopub.execute_input": "2022-08-02T07:50:18.152821Z",
     "iopub.status.busy": "2022-08-02T07:50:18.152084Z",
     "iopub.status.idle": "2022-08-02T07:50:18.575568Z",
     "shell.execute_reply": "2022-08-02T07:50:18.574639Z"
    },
    "papermill": {
     "duration": 0.434358,
     "end_time": "2022-08-02T07:50:18.578236",
     "exception": false,
     "start_time": "2022-08-02T07:50:18.143878",
     "status": "completed"
    },
    "tags": []
   },
   "outputs": [],
   "source": [
    "import sys\n",
    "import os\n",
    "import pandas as pd\n",
    "import datetime\n",
    "from dateutil.tz import gettz\n",
    "import numpy as np\n",
    "import Levenshtein as lev"
   ]
  },
  {
   "cell_type": "code",
   "execution_count": 4,
   "id": "d6fbe3aa-ed6b-499a-9092-f57d2fe64528",
   "metadata": {
    "execution": {
     "iopub.execute_input": "2022-08-02T07:50:18.591194Z",
     "iopub.status.busy": "2022-08-02T07:50:18.590502Z",
     "iopub.status.idle": "2022-08-02T07:50:18.596807Z",
     "shell.execute_reply": "2022-08-02T07:50:18.595939Z"
    },
    "papermill": {
     "duration": 0.015818,
     "end_time": "2022-08-02T07:50:18.599415",
     "exception": false,
     "start_time": "2022-08-02T07:50:18.583597",
     "status": "completed"
    },
    "tags": []
   },
   "outputs": [],
   "source": [
    "sys.path.append('../../../..')"
   ]
  },
  {
   "cell_type": "code",
   "execution_count": 5,
   "id": "49b541bc-3511-4f17-bc50-1d93af332f4a",
   "metadata": {
    "execution": {
     "iopub.execute_input": "2022-08-02T07:50:18.611881Z",
     "iopub.status.busy": "2022-08-02T07:50:18.611395Z",
     "iopub.status.idle": "2022-08-02T07:50:18.881068Z",
     "shell.execute_reply": "2022-08-02T07:50:18.880154Z"
    },
    "papermill": {
     "duration": 0.278562,
     "end_time": "2022-08-02T07:50:18.883293",
     "exception": false,
     "start_time": "2022-08-02T07:50:18.604731",
     "status": "completed"
    },
    "tags": []
   },
   "outputs": [],
   "source": [
    "from zeno_etl_libs.logger import get_logger\n",
    "from zeno_etl_libs.db.db import DB\n",
    "from zeno_etl_libs.helper.aws.s3 import S3\n",
    "from zeno_etl_libs.helper import helper\n",
    "from zeno_etl_libs.helper.email.email import Email"
   ]
  },
  {
   "cell_type": "markdown",
   "id": "2e23ce67-10fe-4c6c-905a-c31b90a986d9",
   "metadata": {
    "papermill": {
     "duration": 0.005624,
     "end_time": "2022-08-02T07:50:18.894178",
     "exception": false,
     "start_time": "2022-08-02T07:50:18.888554",
     "status": "completed"
    },
    "tags": []
   },
   "source": [
    "## Pass Params\n"
   ]
  },
  {
   "cell_type": "code",
   "execution_count": 6,
   "id": "9634ce4b-146a-46da-9617-ca0ba512651a",
   "metadata": {
    "execution": {
     "iopub.execute_input": "2022-08-02T07:50:18.906515Z",
     "iopub.status.busy": "2022-08-02T07:50:18.905979Z",
     "iopub.status.idle": "2022-08-02T07:50:18.910841Z",
     "shell.execute_reply": "2022-08-02T07:50:18.909761Z"
    },
    "papermill": {
     "duration": 0.013967,
     "end_time": "2022-08-02T07:50:18.913206",
     "exception": false,
     "start_time": "2022-08-02T07:50:18.899239",
     "status": "completed"
    },
    "tags": [
     "parameters"
    ]
   },
   "outputs": [],
   "source": [
    "env = \"dev\"\n",
    "full_run = 0\n",
    "email_to =\"NA\"\n",
    "batch_size = 10"
   ]
  },
  {
   "cell_type": "code",
   "execution_count": 7,
   "id": "34568929",
   "metadata": {
    "execution": {
     "iopub.execute_input": "2022-08-02T07:50:18.925683Z",
     "iopub.status.busy": "2022-08-02T07:50:18.925272Z",
     "iopub.status.idle": "2022-08-02T07:50:18.929771Z",
     "shell.execute_reply": "2022-08-02T07:50:18.928676Z"
    },
    "papermill": {
     "duration": 0.013229,
     "end_time": "2022-08-02T07:50:18.931894",
     "exception": false,
     "start_time": "2022-08-02T07:50:18.918665",
     "status": "completed"
    },
    "tags": [
     "injected-parameters"
    ]
   },
   "outputs": [],
   "source": [
    "# Parameters\n",
    "env = \"prod\"\n",
    "full_run = 0\n"
   ]
  },
  {
   "cell_type": "code",
   "execution_count": 8,
   "id": "08851736-d86a-4a24-995d-49edc2523726",
   "metadata": {
    "execution": {
     "iopub.execute_input": "2022-08-02T07:50:18.944317Z",
     "iopub.status.busy": "2022-08-02T07:50:18.943637Z",
     "iopub.status.idle": "2022-08-02T07:50:19.042166Z",
     "shell.execute_reply": "2022-08-02T07:50:19.040695Z"
    },
    "papermill": {
     "duration": 0.107825,
     "end_time": "2022-08-02T07:50:19.044749",
     "exception": false,
     "start_time": "2022-08-02T07:50:18.936924",
     "status": "completed"
    },
    "tags": []
   },
   "outputs": [
    {
     "name": "stdout",
     "output_type": "stream",
     "text": [
      "connecting with secrets manager for getting secrets\n"
     ]
    }
   ],
   "source": [
    "os.environ['env'] = env\n",
    "logger = get_logger()"
   ]
  },
  {
   "cell_type": "code",
   "execution_count": 9,
   "id": "f3f5e6ee-27bf-4d1d-83bb-475d41841da3",
   "metadata": {
    "execution": {
     "iopub.execute_input": "2022-08-02T07:50:19.059114Z",
     "iopub.status.busy": "2022-08-02T07:50:19.058422Z",
     "iopub.status.idle": "2022-08-02T07:50:19.067480Z",
     "shell.execute_reply": "2022-08-02T07:50:19.066493Z"
    },
    "papermill": {
     "duration": 0.022992,
     "end_time": "2022-08-02T07:50:19.073501",
     "exception": false,
     "start_time": "2022-08-02T07:50:19.050509",
     "status": "completed"
    },
    "tags": []
   },
   "outputs": [
    {
     "name": "stdout",
     "output_type": "stream",
     "text": [
      "2022-08-02 07:50:19,060 - root - INFO - env: prod\n"
     ]
    },
    {
     "name": "stdout",
     "output_type": "stream",
     "text": [
      "2022-08-02 07:50:19,061 - root - INFO - full_run: 0\n"
     ]
    },
    {
     "name": "stdout",
     "output_type": "stream",
     "text": [
      "2022-08-02 07:50:19,062 - root - INFO - batch_size: 10\n"
     ]
    },
    {
     "name": "stdout",
     "output_type": "stream",
     "text": [
      "2022-08-02 07:50:19,063 - root - INFO - email_to: NA\n"
     ]
    }
   ],
   "source": [
    "logger.info(f\"env: {env}\")\n",
    "logger.info(f\"full_run: {full_run}\")\n",
    "logger.info(f\"batch_size: {batch_size}\")\n",
    "logger.info(f\"email_to: {email_to}\")"
   ]
  },
  {
   "cell_type": "code",
   "execution_count": 10,
   "id": "c3174702-f55f-4bec-8c59-47c02ab52d7a",
   "metadata": {
    "execution": {
     "iopub.execute_input": "2022-08-02T07:50:19.086600Z",
     "iopub.status.busy": "2022-08-02T07:50:19.085999Z",
     "iopub.status.idle": "2022-08-02T07:50:19.303237Z",
     "shell.execute_reply": "2022-08-02T07:50:19.302389Z"
    },
    "papermill": {
     "duration": 0.226972,
     "end_time": "2022-08-02T07:50:19.306081",
     "exception": false,
     "start_time": "2022-08-02T07:50:19.079109",
     "status": "completed"
    },
    "tags": []
   },
   "outputs": [],
   "source": [
    "# read\n",
    "rs_db = DB()\n",
    "rs_db.open_connection()\n",
    "\n",
    "# write\n",
    "rs_db_write = DB(read_only=False)\n",
    "rs_db_write.open_connection()\n",
    "\n",
    "s3 = S3()"
   ]
  },
  {
   "cell_type": "code",
   "execution_count": 11,
   "id": "bd920692-714f-4450-8290-d337fc03a5e3",
   "metadata": {
    "execution": {
     "iopub.execute_input": "2022-08-02T07:50:19.320220Z",
     "iopub.status.busy": "2022-08-02T07:50:19.319515Z",
     "iopub.status.idle": "2022-08-02T07:50:20.505626Z",
     "shell.execute_reply": "2022-08-02T07:50:20.504454Z"
    },
    "papermill": {
     "duration": 1.196093,
     "end_time": "2022-08-02T07:50:20.508250",
     "exception": false,
     "start_time": "2022-08-02T07:50:19.312157",
     "status": "completed"
    },
    "tags": []
   },
   "outputs": [],
   "source": [
    "schema = 'prod2-generico'\n",
    "patients_table = 'playstore-patients'\n",
    "reviews_table = 'playstore-reviews'\n",
    "patients_table_info = helper.get_table_info(db=rs_db_write, table_name=patients_table, schema=schema)"
   ]
  },
  {
   "cell_type": "code",
   "execution_count": 12,
   "id": "a68e74b6-8295-4607-b2f1-b3550937098a",
   "metadata": {
    "execution": {
     "iopub.execute_input": "2022-08-02T07:50:20.527765Z",
     "iopub.status.busy": "2022-08-02T07:50:20.527288Z",
     "iopub.status.idle": "2022-08-02T07:50:20.533424Z",
     "shell.execute_reply": "2022-08-02T07:50:20.532310Z"
    },
    "papermill": {
     "duration": 0.019975,
     "end_time": "2022-08-02T07:50:20.535469",
     "exception": false,
     "start_time": "2022-08-02T07:50:20.515494",
     "status": "completed"
    },
    "tags": []
   },
   "outputs": [],
   "source": [
    "def get_last_processed_review_date():\n",
    "    # last review date in \"playstore-patients\" table\n",
    "    query = f\"\"\" select max(\"review-created-at\") last_review_at from \"{schema}\".\"{patients_table}\" \"\"\"\n",
    "    df = rs_db_write.get_df(query=query)\n",
    "    df['last_review_at'].fillna(np.nan, inplace=True)\n",
    "    last_review_at = df['last_review_at'].to_string(index=False)\n",
    "    logger.info(f\"last_review_at in play store patients table: {last_review_at}\")\n",
    "    return last_review_at"
   ]
  },
  {
   "cell_type": "code",
   "execution_count": 13,
   "id": "afcf8c32-fc42-400f-b0f2-b556548ef631",
   "metadata": {
    "execution": {
     "iopub.execute_input": "2022-08-02T07:50:20.549411Z",
     "iopub.status.busy": "2022-08-02T07:50:20.548821Z",
     "iopub.status.idle": "2022-08-02T07:50:20.554682Z",
     "shell.execute_reply": "2022-08-02T07:50:20.553346Z"
    },
    "papermill": {
     "duration": 0.015442,
     "end_time": "2022-08-02T07:50:20.556934",
     "exception": false,
     "start_time": "2022-08-02T07:50:20.541492",
     "status": "completed"
    },
    "tags": []
   },
   "outputs": [],
   "source": [
    "def get_orders(start_datetime, end_datetime):\n",
    "    #Fetch zeno orders for a given date range\n",
    "    zeno_q = f\"\"\"\n",
    "        select\n",
    "            zo.id as \"zeno-order-id-before-review\" ,\n",
    "            zo.\"patient-id\" ,\n",
    "            zo.\"created-at\" as \"order-created-at\",\n",
    "            p.phone,\n",
    "            p.\"name\" as \"matched-name\"\n",
    "        from\n",
    "            \"prod2-generico\".\"zeno-order\" zo\n",
    "        left join \"prod2-generico\".patients p on\n",
    "            zo.\"patient-id\" = p.id\n",
    "        where\n",
    "            zo.\"created-at\" > '{start_datetime}'\n",
    "            and zo.\"created-at\" <= '{end_datetime}'\n",
    "            and p.\"name\" is not null\n",
    "        \"\"\"\n",
    "    df = rs_db.get_df(zeno_q)\n",
    "    return df"
   ]
  },
  {
   "cell_type": "code",
   "execution_count": 14,
   "id": "c7ce1e24-17aa-4ec0-8c74-cde94ec09cf3",
   "metadata": {
    "execution": {
     "iopub.execute_input": "2022-08-02T07:50:20.570606Z",
     "iopub.status.busy": "2022-08-02T07:50:20.569864Z",
     "iopub.status.idle": "2022-08-02T07:50:20.649181Z",
     "shell.execute_reply": "2022-08-02T07:50:20.648290Z"
    },
    "papermill": {
     "duration": 0.088767,
     "end_time": "2022-08-02T07:50:20.651568",
     "exception": false,
     "start_time": "2022-08-02T07:50:20.562801",
     "status": "completed"
    },
    "tags": []
   },
   "outputs": [
    {
     "name": "stdout",
     "output_type": "stream",
     "text": [
      "2022-08-02 07:50:20,644 - root - INFO - last_review_at in play store patients table: 2022-07-30 13:29:33\n"
     ]
    }
   ],
   "source": [
    "review_filter = \"\"\n",
    "if full_run:\n",
    "    \"\"\" No filter, take all \"\"\"\n",
    "    \"\"\" and truncate the playstore-patients tables \"\"\"\n",
    "    logger.info(f\"Full run is: {full_run}, so truncating the table.\")\n",
    "    query = f\"\"\" truncate table \"{schema}\".\"{patients_table}\"; \"\"\"\n",
    "    rs_db_write.execute(query=query)\n",
    "else:\n",
    "    last_processed_review_at = get_last_processed_review_date()\n",
    "    if last_processed_review_at == 'NaN':\n",
    "        \"\"\" No filter, take all \"\"\"\n",
    "        pass\n",
    "    else:\n",
    "        review_filter = f\"\"\" and \"review-created-at\" > '{last_processed_review_at}' \"\"\""
   ]
  },
  {
   "cell_type": "code",
   "execution_count": 15,
   "id": "fd0b2f16-af8a-4902-a5ef-868fe6c51bfe",
   "metadata": {
    "execution": {
     "iopub.execute_input": "2022-08-02T07:50:20.665354Z",
     "iopub.status.busy": "2022-08-02T07:50:20.664925Z",
     "iopub.status.idle": "2022-08-02T07:50:20.671501Z",
     "shell.execute_reply": "2022-08-02T07:50:20.670408Z"
    },
    "papermill": {
     "duration": 0.01624,
     "end_time": "2022-08-02T07:50:20.673758",
     "exception": false,
     "start_time": "2022-08-02T07:50:20.657518",
     "status": "completed"
    },
    "tags": []
   },
   "outputs": [
    {
     "data": {
      "text/plain": [
       "' and \"review-created-at\" > \\'2022-07-30 13:29:33\\' '"
      ]
     },
     "execution_count": 15,
     "metadata": {},
     "output_type": "execute_result"
    }
   ],
   "source": [
    "review_filter"
   ]
  },
  {
   "cell_type": "code",
   "execution_count": 16,
   "id": "fcc08da0-dc90-430b-ab25-b266793fdff5",
   "metadata": {
    "execution": {
     "iopub.execute_input": "2022-08-02T07:50:20.687847Z",
     "iopub.status.busy": "2022-08-02T07:50:20.687068Z",
     "iopub.status.idle": "2022-08-02T07:50:21.158597Z",
     "shell.execute_reply": "2022-08-02T07:50:21.157747Z"
    },
    "papermill": {
     "duration": 0.481132,
     "end_time": "2022-08-02T07:50:21.160944",
     "exception": false,
     "start_time": "2022-08-02T07:50:20.679812",
     "status": "completed"
    },
    "tags": []
   },
   "outputs": [],
   "source": [
    "# Fetching required reviews from playstore-review table\n",
    "query = f\"\"\"\n",
    "    select\n",
    "        \"review-id\",\n",
    "        \"review\",\n",
    "        \"author-name\",\n",
    "        \"review-created-at\",\n",
    "        \"star-rating\"\n",
    "    from\n",
    "        \"{schema}\".\"{reviews_table}\"\n",
    "    where\n",
    "        \"review-id\" != ''\n",
    "        {review_filter}\n",
    "    order by \n",
    "        \"review-created-at\" asc\n",
    "\"\"\"\n",
    "reviews_df = rs_db.get_df(query=query)\n",
    "reviews_df['review-created-at'] = pd.to_datetime(reviews_df['review-created-at'])"
   ]
  },
  {
   "cell_type": "code",
   "execution_count": 17,
   "id": "531a3903-9cda-4f90-86ea-00aa473307ce",
   "metadata": {
    "execution": {
     "iopub.execute_input": "2022-08-02T07:50:21.175228Z",
     "iopub.status.busy": "2022-08-02T07:50:21.174651Z",
     "iopub.status.idle": "2022-08-02T07:50:21.182542Z",
     "shell.execute_reply": "2022-08-02T07:50:21.181489Z"
    },
    "papermill": {
     "duration": 0.01766,
     "end_time": "2022-08-02T07:50:21.184653",
     "exception": false,
     "start_time": "2022-08-02T07:50:21.166993",
     "status": "completed"
    },
    "tags": []
   },
   "outputs": [
    {
     "name": "stdout",
     "output_type": "stream",
     "text": [
      "2022-08-02 07:50:21,178 - root - INFO - No reviews to process, to stopping here.\n"
     ]
    },
    {
     "name": "stdout",
     "output_type": "stream",
     "text": [
      "Redshift DB connection closed successfully.\n",
      "Redshift DB connection closed successfully.\n"
     ]
    }
   ],
   "source": [
    "if reviews_df.empty:\n",
    "    logger.info(\"No reviews to process, to stopping here.\")\n",
    "\n",
    "    rs_db.close_connection()\n",
    "    rs_db_write.close_connection()\n",
    "\n",
    "    exit()\n",
    "else:\n",
    "    logger.info(f\"Total reviews to be processed: {len(reviews_df)}\")"
   ]
  },
  {
   "cell_type": "code",
   "execution_count": 18,
   "id": "b6fa2b2b-a5e2-4760-9e67-a034fc006844",
   "metadata": {
    "execution": {
     "iopub.execute_input": "2022-08-02T07:50:21.199701Z",
     "iopub.status.busy": "2022-08-02T07:50:21.198722Z",
     "iopub.status.idle": "2022-08-02T07:50:21.212575Z",
     "shell.execute_reply": "2022-08-02T07:50:21.211710Z"
    },
    "papermill": {
     "duration": 0.024012,
     "end_time": "2022-08-02T07:50:21.214784",
     "exception": false,
     "start_time": "2022-08-02T07:50:21.190772",
     "status": "completed"
    },
    "tags": []
   },
   "outputs": [],
   "source": [
    "# Process review in batches\n",
    "counter = 1\n",
    "for b_df in helper.batch(reviews_df, batch_size):\n",
    "    print(f\"Counter: {counter}, len: {len(b_df)}\\n\")\n",
    "\n",
    "    # Do all the processing\n",
    "    logger.info(f\" b_df {counter}: {b_df.head(1).transpose()} \\n\\n\")\n",
    "\n",
    "    start_datetime = b_df['review-created-at'].min() - datetime.timedelta(days=7)\n",
    "    end_datetime = b_df['review-created-at'].max()\n",
    "    orders_df = get_orders(start_datetime=start_datetime, end_datetime=end_datetime)\n",
    "\n",
    "    # Cross join reviews and orders\n",
    "    b_df['i'] = 1\n",
    "    orders_df['i'] = 1\n",
    "    df = pd.merge(b_df, orders_df, how='inner', on='i')\n",
    "    df['author-name'] = df['author-name'].str.lower()\n",
    "    df['matched-name'] = df['matched-name'].str.lower()\n",
    "\n",
    "    # Apply name matching\n",
    "    df['lev-ratio'] = df.apply(lambda row: lev.ratio(str(row['author-name']), str(row['matched-name'])), 1)\n",
    "\n",
    "    df['rank-order'] = df.sort_values(['zeno-order-id-before-review'], ascending=[False]) \\\n",
    "                           .groupby(['review-id', 'matched-name']) \\\n",
    "                           .cumcount() + 1\n",
    "\n",
    "    top_df = df[(df['rank-order'] == 1)]\n",
    "    top_df['top-matches'] = top_df.sort_values(['lev-ratio'], ascending=[False]).groupby(['review-id']).cumcount() + 1\n",
    "\n",
    "    # fetch top 3 name matches\n",
    "    top_df = top_df[(top_df['top-matches'] <= 3)]\n",
    "    top_df = top_df.sort_values(['star-rating', 'review-id', 'top-matches'], ascending=[True, True, True])\n",
    "\n",
    "    # Adding extra ETL columns\n",
    "    top_df['created-at'] = datetime.datetime.now(tz=gettz('Asia/Kolkata')).strftime('%Y-%m-%d %H:%M:%S')\n",
    "    top_df['updated-at'] = datetime.datetime.now(tz=gettz('Asia/Kolkata')).strftime('%Y-%m-%d %H:%M:%S')\n",
    "    top_df['created-by'] = 'etl-automation'\n",
    "    top_df['updated-by'] = 'etl-automation'\n",
    "\n",
    "    s3.write_df_to_db(df=top_df[patients_table_info['column_name']], table_name=patients_table, db=rs_db_write,\n",
    "                      schema=schema)\n",
    "\n",
    "    if \"@\" in email_to:\n",
    "        \"\"\" Which means we want to send an email \"\"\"\n",
    "        file_name = 'Zeno_playstore.xlsx'\n",
    "        columns_in_mail = ['review-id', 'review', 'star-rating', 'review-created-at', 'author-name',\n",
    "                           'matched-name', 'zeno-order-id-before-review', 'patient-id', 'order-created-at']\n",
    "\n",
    "        file_path = s3.write_df_to_excel(data={'Zeno Playstore': top_df[columns_in_mail]}, file_name=file_name)\n",
    "        email = Email()\n",
    "        email.send_email_file(\n",
    "            subject=\"Zeno Playstore\",\n",
    "            mail_body='Zeno Playstore',\n",
    "            to_emails=email_to,\n",
    "            file_uris=[],\n",
    "            file_paths=[file_path]\n",
    "        )\n",
    "        logger.info(f\"Email has been sent successfully to: {email_to}\")\n",
    "\n",
    "    counter += 1\n",
    "\n",
    "    # \"\"\" For testing only \"\"\"\n",
    "    # if counter >= 2:\n",
    "    #     break"
   ]
  },
  {
   "cell_type": "code",
   "execution_count": 19,
   "id": "7101a472-5c00-4f2a-9037-b650aa9aef0c",
   "metadata": {
    "execution": {
     "iopub.execute_input": "2022-08-02T07:50:21.228909Z",
     "iopub.status.busy": "2022-08-02T07:50:21.228295Z",
     "iopub.status.idle": "2022-08-02T07:50:21.233596Z",
     "shell.execute_reply": "2022-08-02T07:50:21.232517Z"
    },
    "papermill": {
     "duration": 0.015044,
     "end_time": "2022-08-02T07:50:21.235755",
     "exception": false,
     "start_time": "2022-08-02T07:50:21.220711",
     "status": "completed"
    },
    "tags": []
   },
   "outputs": [
    {
     "name": "stdout",
     "output_type": "stream",
     "text": [
      "Redshift DB connection closed successfully.\n",
      "Redshift DB connection closed successfully.\n"
     ]
    }
   ],
   "source": [
    "# Closing the DB Connection\n",
    "rs_db.close_connection()\n",
    "rs_db_write.close_connection()"
   ]
  },
  {
   "cell_type": "code",
   "execution_count": null,
   "id": "7a3aae28-dd23-4ae9-92ca-a0090428c72e",
   "metadata": {
    "papermill": {
     "duration": 0.00615,
     "end_time": "2022-08-02T07:50:21.248094",
     "exception": false,
     "start_time": "2022-08-02T07:50:21.241944",
     "status": "completed"
    },
    "tags": []
   },
   "outputs": [],
   "source": []
  },
  {
   "cell_type": "code",
   "execution_count": null,
   "id": "031d77ac-888b-4265-8f38-269acc945af8",
   "metadata": {
    "papermill": {
     "duration": 0.006213,
     "end_time": "2022-08-02T07:50:21.260519",
     "exception": false,
     "start_time": "2022-08-02T07:50:21.254306",
     "status": "completed"
    },
    "tags": []
   },
   "outputs": [],
   "source": []
  },
  {
   "cell_type": "code",
   "execution_count": null,
   "id": "1bc3c9e1-4e4e-488c-baac-7177384c3a48",
   "metadata": {
    "papermill": {
     "duration": 0.006324,
     "end_time": "2022-08-02T07:50:21.273629",
     "exception": false,
     "start_time": "2022-08-02T07:50:21.267305",
     "status": "completed"
    },
    "tags": []
   },
   "outputs": [],
   "source": []
  }
 ],
 "metadata": {
  "kernelspec": {
   "display_name": "Python 3 (ipykernel)",
   "language": "python",
   "name": "python3"
  },
  "language_info": {
   "codemirror_mode": {
    "name": "ipython",
    "version": 3
   },
   "file_extension": ".py",
   "mimetype": "text/x-python",
   "name": "python",
   "nbconvert_exporter": "python",
   "pygments_lexer": "ipython3",
   "version": "3.7.9"
  },
  "papermill": {
   "default_parameters": {},
   "duration": 19.259231,
   "end_time": "2022-08-02T07:50:27.074830",
   "environment_variables": {},
   "exception": null,
   "input_path": "notebook-2022-08-02-07-45-05.ipynb",
   "output_path": "/opt/ml/processing/output/playstore-patients-batch-process-2022-08-02-07-45-06.ipynb",
   "parameters": {
    "env": "prod",
    "full_run": 0
   },
   "start_time": "2022-08-02T07:50:07.815599",
   "version": "2.3.4"
  }
 },
 "nbformat": 4,
 "nbformat_minor": 5
}