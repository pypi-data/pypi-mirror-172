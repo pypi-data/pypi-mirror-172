{
 "cells": [
  {
   "cell_type": "markdown",
   "id": "048f0220",
   "metadata": {
    "pycharm": {
     "name": "#%% md\n"
    }
   },
   "source": [
    "# Interactor Finder\n",
    "The `InteractorFinder` class is used to identify specifically linked nodes to your starting case. Here, we show how one initializes this class by choosing the MAPT protein with phosphorylation modification, and finds all causally linked neighbors."
   ]
  },
  {
   "cell_type": "code",
   "execution_count": null,
   "id": "d5507142",
   "metadata": {
    "ExecuteTime": {
     "end_time": "2021-12-06T09:09:20.179225Z",
     "start_time": "2021-12-06T09:07:56.474635Z"
    },
    "pycharm": {
     "name": "#%%\n"
    }
   },
   "outputs": [],
   "source": [
    "#!pip install drugintfinder\n",
    "from drugintfinder.finder import InteractorFinder\n",
    "\n",
    "import pandas as pd\n",
    "\n",
    "# Initialize with base information\n",
    "finder = InteractorFinder(\n",
    "    node_name=\"MAPT\",  # Target node should have the MAPT gene symbol\n",
    "    node_type=\"protein\",  # Target node should be a protein\n",
    "    pmods=[\"pho\"],  # Target node should have a phosphorylation modification\n",
    "    neighbor_edge_type=\"causal\",  # The direct interactors should be related using causal edge types\n",
    "    print_sql=False,  # Print the query as it's presented to OrientDB server\n",
    "    neighbor_edge_filters=[\"tau=true\"],  # Additional interactor edge filters\n",
    ")\n",
    "\n",
    "# Select for matching starting protein nodes (i.e. MAPT protein) and find all interactors\n",
    "neighbors = finder.find_interactors()\n",
    "neighbors"
   ]
  },
  {
   "cell_type": "markdown",
   "id": "79078343",
   "metadata": {
    "pycharm": {
     "name": "#%% md\n"
    }
   },
   "source": [
    "### Druggable Interactors\n",
    "While knowing the neighbors of select nodes is useful, knowing which ones can be targeted by drugs and compounds is even more informative. The InteractorFinder class has a method for searching out those special neighbors. By default, these neighbors are isolated to proteins as the KG restricts drug-target interactions to those occurring between proteins and compounds."
   ]
  },
  {
   "cell_type": "code",
   "execution_count": null,
   "id": "176a87ce",
   "metadata": {
    "ExecuteTime": {
     "end_time": "2021-12-06T09:14:31.420305Z",
     "start_time": "2021-12-06T09:14:10.856319Z"
    },
    "pycharm": {
     "name": "#%%\n"
    }
   },
   "outputs": [],
   "source": [
    "druggable_ints = finder.druggable_interactors()\n",
    "druggable_ints"
   ]
  },
  {
   "cell_type": "markdown",
   "id": "4f8cbb86",
   "metadata": {
    "pycharm": {
     "name": "#%% md\n"
    }
   },
   "source": [
    "# Ranker\n",
    "The `Ranker` class is used to generate useful statistics about identified druggable interactors. Because this scoring is restricted to druggable interactors, only the starting node and pmods are needed to initialize.  \n",
    "\n",
    "The ranking algorithm requires a bit of information to score everything, the first time it is used, it will need to download information on BioAssays and other resources which it will then store in a locally made SQLite database. The total space used is less than 100 MB.  \n",
    "\n",
    "The download will take a couple of minutes during the first ranking, but subsequent rankings will be much faster."
   ]
  },
  {
   "cell_type": "code",
   "execution_count": null,
   "id": "ffcc5bd7",
   "metadata": {
    "ExecuteTime": {
     "end_time": "2021-12-06T09:19:05.740057Z",
     "start_time": "2021-12-06T09:14:57.167220Z"
    },
    "pycharm": {
     "name": "#%%\n"
    }
   },
   "outputs": [],
   "source": [
    "from drugintfinder.ranker import Ranker\n",
    "\n",
    "ranker = Ranker(symbol=\"MAPT\", pmods=[\"pho\"], reward=1, penalty=-1)\n",
    "ranker.rank()  # Performs the ranking\n",
    "summary = ranker.summarize()  # Create a summary os the statistics\n",
    "summary"
   ]
  },
  {
   "cell_type": "code",
   "execution_count": null,
   "id": "e0dab569",
   "metadata": {
    "ExecuteTime": {
     "end_time": "2021-12-06T09:34:57.287676Z",
     "start_time": "2021-12-06T09:34:57.234674Z"
    },
    "pycharm": {
     "name": "#%%\n"
    }
   },
   "outputs": [],
   "source": [
    "bioassays_per_drug = []\n",
    "\n",
    "for interactor in summary.Target.unique():\n",
    "    drugs = len(summary[summary.Target == interactor].Drug.unique())\n",
    "    bioassays = summary[summary.Target == interactor][\"Number of BioAssays for Target\"].iloc[0]\n",
    "    bioassays_per_drug.append({\"Protein\": interactor, \"BioAssays per Drug\": bioassays // drugs})\n",
    "\n",
    "ratio_df = pd.DataFrame(bioassays_per_drug)\n",
    "ratio_df.sort_values(\"BioAssays per Drug\", ascending=False)[:10]"
   ]
  },
  {
   "cell_type": "code",
   "execution_count": null,
   "id": "1c434d6e",
   "metadata": {
    "ExecuteTime": {
     "end_time": "2021-12-06T09:34:03.996914Z",
     "start_time": "2021-12-06T09:34:03.981913Z"
    },
    "pycharm": {
     "name": "#%%\n"
    }
   },
   "outputs": [],
   "source": [
    "import pandas as pd\n",
    "summary[summary.Target == \"APP\"][\"Number of BioAssays for Target\"].iloc[0]"
   ]
  },
  {
   "cell_type": "code",
   "execution_count": null,
   "id": "63920910",
   "metadata": {
    "ExecuteTime": {
     "end_time": "2021-12-06T09:27:43.996431Z",
     "start_time": "2021-12-06T09:27:43.973404Z"
    },
    "pycharm": {
     "name": "#%%\n"
    }
   },
   "outputs": [],
   "source": [
    "summary.sort_values(by=\"Number of BioAssays for Target\", ascending=False)"
   ]
  },
  {
   "cell_type": "markdown",
   "id": "2d7e196d",
   "metadata": {
    "pycharm": {
     "name": "#%% md\n"
    }
   },
   "source": [
    "# PPI Analysis\n",
    "Next, we perform an analysis of the identified proteins using information gathered by [e(BE:L)](https://github.com/e-bel/ebel).\n",
    "The following commands will download data from 4 major PPI databases: BioGRID, Pathway Commons, StringDB, and IntAct,\n",
    "and check which pathways/interactions are known for every identified secondary target."
   ]
  },
  {
   "cell_type": "code",
   "execution_count": null,
   "id": "afe6b98c",
   "metadata": {
    "pycharm": {
     "name": "#%%\n"
    }
   },
   "outputs": [],
   "source": [
    "# Uncomment the following line if you need to install e(BE:L)\n",
    "#!pip install ebel git+https://github.com/orientechnologies/pyorient\n",
    "\n",
    "import pandas as pd\n",
    "from ebel import Bel\n",
    "bel = Bel()"
   ]
  },
  {
   "cell_type": "markdown",
   "id": "95c1793d",
   "metadata": {
    "pycharm": {
     "name": "#%% md\n"
    }
   },
   "source": [
    "## Download PPI Information\n",
    "The following cell downloads information from the PPI databases and inserts into a RDBMS (SQLlite [default] or MySQL).  \n",
    "**WARNING** This step may take awhile."
   ]
  },
  {
   "cell_type": "code",
   "execution_count": null,
   "id": "c93c7640",
   "metadata": {
    "pycharm": {
     "name": "#%%\n"
    }
   },
   "outputs": [],
   "source": [
    "bel.biogrid.update()\n",
    "bel.intact.update()\n",
    "bel.stringdb.update()\n",
    "bel.pathway_commons.update()"
   ]
  },
  {
   "cell_type": "markdown",
   "id": "86a160e3",
   "metadata": {
    "pycharm": {
     "name": "#%% md\n"
    }
   },
   "source": [
    "## Gather Hits\n",
    "Now we check each PPI database for associated information on each secondary target."
   ]
  },
  {
   "cell_type": "code",
   "execution_count": null,
   "id": "2b7476fd",
   "metadata": {
    "pycharm": {
     "name": "#%%\n"
    }
   },
   "outputs": [],
   "source": [
    "proteins = list(summary.Target.unique())"
   ]
  },
  {
   "cell_type": "markdown",
   "id": "6d42612b",
   "metadata": {
    "pycharm": {
     "name": "#%% md\n"
    }
   },
   "source": [
    "### Pathway Commons"
   ]
  },
  {
   "cell_type": "code",
   "execution_count": null,
   "id": "722461b2",
   "metadata": {
    "pycharm": {
     "name": "#%%\n"
    }
   },
   "outputs": [],
   "source": [
    "sql = f\"\"\"Select\n",
    "    pc.participant_a a,\n",
    "    pc.interaction_type int_type,\n",
    "    pc.participant_b b,\n",
    "    group_concat(distinct pn.name) pathway_names,\n",
    "    group_concat(distinct s.source) sources,\n",
    "    group_concat(distinct p.pmid) pmids\n",
    "from\n",
    "    pathway_commons pc left join\n",
    "    pathway_commons__pathway_name pc_pn on (pc.id=pc_pn.pathway_commons_id) left join\n",
    "    pathway_commons_pathway_name pn on (pc_pn.pathway_commons_pathway_name_id = pn.id) left join\n",
    "    pathway_commons__source pc_s on (pc.id=pc_s.pathway_commons_id) left join\n",
    "    pathway_commons_source s on (pc_s.pathway_commons_source_id=s.id) left join\n",
    "    pathway_commons_pmid p on (p.pathway_commons_id=pc.id)\n",
    "where\n",
    "    (pc.participant_a in {proteins} and pc.participant_b = 'MAPT') or\n",
    "    (pc.participant_b in {proteins} and pc.participant_a = 'MAPT')\n",
    "group by\n",
    "    pc.participant_a, pc.interaction_type, pc.participant_b\"\"\"\n",
    "\n",
    "pc_hits = pd.read_sql(sql, engine)"
   ]
  },
  {
   "cell_type": "markdown",
   "id": "95d849ed",
   "metadata": {
    "pycharm": {
     "name": "#%% md\n"
    }
   },
   "source": [
    "### BioGRID"
   ]
  },
  {
   "cell_type": "code",
   "execution_count": null,
   "id": "a7b5fe4d",
   "metadata": {
    "pycharm": {
     "name": "#%%\n"
    }
   },
   "outputs": [],
   "source": [
    "sql = f\"\"\"Select\n",
    "    ia.symbol a,\n",
    "    ib.symbol b,\n",
    "    bes.experimental_system,\n",
    "    bes.experimental_system_type\n",
    "from\n",
    "    biogrid b inner join\n",
    "    biogrid_interactor ia on (b.biogrid_a_id=ia.biogrid_id) inner join\n",
    "    biogrid_interactor ib on (b.biogrid_b_id=ib.biogrid_id) inner join\n",
    "    biogrid_experimental_system bes on (b.experimental_system_id=bes.id)\n",
    "where\n",
    "    (ia.symbol = 'MAPT' and ib.symbol in {proteins}) or\n",
    "    (ib.symbol = 'MAPT' and ia.symbol in {proteins})\"\"\"\n",
    "\n",
    "biogrid_hits = pd.read_sql(sql, engine)"
   ]
  },
  {
   "cell_type": "markdown",
   "id": "9f7fffcf",
   "metadata": {
    "pycharm": {
     "name": "#%% md\n"
    }
   },
   "source": [
    "### IntAct"
   ]
  },
  {
   "cell_type": "code",
   "execution_count": null,
   "id": "fa77bf4e",
   "metadata": {
    "pycharm": {
     "name": "#%%\n"
    }
   },
   "outputs": [],
   "source": [
    "sql = f\"\"\"Select\n",
    "    ha.symbol as symbol_a,\n",
    "    hb.symbol as symbol_b,\n",
    "    i.confidence_value, \n",
    "    i.detection_method, \n",
    "    i.interaction_type, \n",
    "    i.pmid\n",
    "from \n",
    "    intact i inner join \n",
    "    hgnc_uniprot hua on (i.int_a_uniprot_id=hua.accession) inner join \n",
    "    hgnc ha on (hua.hgnc_id=ha.id) inner join \n",
    "    hgnc_uniprot hub on (i.int_b_uniprot_id=hub.accession) inner join \n",
    "    hgnc hb on (hub.hgnc_id=hb.id)\n",
    "where \n",
    "    (ha.symbol='MAPT' and hb.symbol in {proteins}) or\n",
    "    (hb.symbol='MAPT' and ha.symbol in {proteins})\n",
    "order by confidence_value desc\n",
    "\"\"\"\n",
    "intact_hits = pd.read_sql(sql, engine)"
   ]
  },
  {
   "cell_type": "markdown",
   "id": "fb4d1f5e",
   "metadata": {
    "pycharm": {
     "name": "#%% md\n"
    }
   },
   "source": [
    "### StringDB"
   ]
  },
  {
   "cell_type": "code",
   "execution_count": null,
   "id": "f3527343",
   "metadata": {
    "pycharm": {
     "name": "#%%\n"
    }
   },
   "outputs": [],
   "source": [
    "sql = f\"\"\"Select * \n",
    "from \n",
    "    stringdb \n",
    "where \n",
    "    (symbol1='MAPT' and symbol2 in {proteins}) or\n",
    "    (symbol2='MAPT' and symbol1 in {proteins})\n",
    "order by combined_score desc\n",
    "\"\"\"\n",
    "stringdb_hits = pd.read_sql(sql, engine)"
   ]
  },
  {
   "cell_type": "markdown",
   "id": "aa57a3ca",
   "metadata": {
    "pycharm": {
     "name": "#%% md\n"
    }
   },
   "source": [
    "# Connecting to a Different Knowledge Graph\n",
    "By default, this package connects to the Alzheimer's Disease based Knowledge Graph (KG) developed under the MAVO project, available at https://graphstore.scai.fraunhofer.de. There are other KGs available, however, and here you can choose to connect to a different one if desired.\n",
    "\n",
    "The commented out code shows how one can connect instead to the COVID KG."
   ]
  },
  {
   "cell_type": "code",
   "execution_count": null,
   "id": "b6604375",
   "metadata": {
    "pycharm": {
     "name": "#%%\n"
    }
   },
   "outputs": [],
   "source": [
    "from ebel_rest import connect\n",
    "connect(user=\"covid_user\", password=\"covid\", db_name=\"covid\", server=\"https://graphstore.scai.fraunhofer.de\")"
   ]
  }
 ],
 "metadata": {
  "kernelspec": {
   "display_name": "Python 3 (ipykernel)",
   "language": "python",
   "name": "python3"
  },
  "language_info": {
   "codemirror_mode": {
    "name": "ipython",
    "version": 3
   },
   "file_extension": ".py",
   "mimetype": "text/x-python",
   "name": "python",
   "nbconvert_exporter": "python",
   "pygments_lexer": "ipython3",
   "version": "3.9.7"
  }
 },
 "nbformat": 4,
 "nbformat_minor": 5
}