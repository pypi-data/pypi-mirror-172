{
 "cells": [
  {
   "cell_type": "code",
   "execution_count": 1,
   "metadata": {},
   "outputs": [
    {
     "ename": "ModuleNotFoundError",
     "evalue": "No module named 'ioos_qc.plotting'",
     "output_type": "error",
     "traceback": [
      "\u001b[0;31m---------------------------------------------------------------------------\u001b[0m",
      "\u001b[0;31mModuleNotFoundError\u001b[0m                       Traceback (most recent call last)",
      "\u001b[0;32m<ipython-input-1-8b3edd25f3cd>\u001b[0m in \u001b[0;36m<module>\u001b[0;34m\u001b[0m\n\u001b[1;32m      9\u001b[0m \u001b[0;32mfrom\u001b[0m \u001b[0mdatetime\u001b[0m \u001b[0;32mimport\u001b[0m \u001b[0mdatetime\u001b[0m\u001b[0;34m\u001b[0m\u001b[0;34m\u001b[0m\u001b[0m\n\u001b[1;32m     10\u001b[0m \u001b[0;34m\u001b[0m\u001b[0m\n\u001b[0;32m---> 11\u001b[0;31m \u001b[0;32mfrom\u001b[0m \u001b[0mioos_qc\u001b[0m\u001b[0;34m.\u001b[0m\u001b[0mplotting\u001b[0m \u001b[0;32mimport\u001b[0m \u001b[0mbokeh_multi_plot\u001b[0m\u001b[0;34m\u001b[0m\u001b[0;34m\u001b[0m\u001b[0m\n\u001b[0m\u001b[1;32m     12\u001b[0m \u001b[0;34m\u001b[0m\u001b[0m\n\u001b[1;32m     13\u001b[0m \u001b[0;32mfrom\u001b[0m \u001b[0mbokeh\u001b[0m \u001b[0;32mimport\u001b[0m \u001b[0mplotting\u001b[0m\u001b[0;34m\u001b[0m\u001b[0;34m\u001b[0m\u001b[0m\n",
      "\u001b[0;31mModuleNotFoundError\u001b[0m: No module named 'ioos_qc.plotting'"
     ]
    }
   ],
   "source": [
    "# Setup directories\n",
    "from pathlib import Path\n",
    "\n",
    "basedir = Path().absolute()\n",
    "libdir = basedir.parent.parent.parent\n",
    "\n",
    "from datetime import datetime\n",
    "\n",
    "import numpy as np\n",
    "\n",
    "# Other imports\n",
    "import pandas as pd\n",
    "from bokeh import plotting\n",
    "from bokeh.layouts import gridplot\n",
    "from ioos_qc.plotting import bokeh_multi_plot\n",
    "\n",
    "plotting.output_notebook()"
   ]
  },
  {
   "cell_type": "code",
   "execution_count": null,
   "metadata": {},
   "outputs": [],
   "source": [
    "# Install QC library\n",
    "#!pip install git+git://github.com/ioos/ioos_qc.git\n",
    "\n",
    "# # Alternative installation (install specific branch):\n",
    "!pip uninstall -y ioos_qc\n",
    "!pip install git+git://github.com/ioos/ioos_qc.git@new_configs\n",
    "\n",
    "# # Alternative installation (run with local updates):\n",
    "!pip uninstall -y ioos_qc\n",
    "# import sys\n",
    "# sys.path.append(str(libdir))"
   ]
  },
  {
   "cell_type": "code",
   "execution_count": null,
   "metadata": {},
   "outputs": [],
   "source": [
    "from ioos_qc.config import Config\n",
    "\n",
    "# QC configuration\n",
    "# For sea water temperature in degrees C\n",
    "# This configuration is used to call the corresponding method in the ioos_qc library\n",
    "# See documentation for description of each test and its inputs:\n",
    "#   https://ioos.github.io/ioos_qc/api/ioos_qc.html#module-ioos_qc.qartod\n",
    "\n",
    "qc_config = {\n",
    "    \"sea_surface_height_above_sea_level\": {\n",
    "        \"qartod\": {\n",
    "            \"gross_range_test\": {\"fail_span\": [-10, 10], \"suspect_span\": [-2, 3]},\n",
    "            \"flat_line_test\": {\n",
    "                \"tolerance\": 0.001,\n",
    "                \"suspect_threshold\": 10800,\n",
    "                \"fail_threshold\": 21600,\n",
    "            },\n",
    "            \"rate_of_change_test\": {\"threshold\": 0.001},\n",
    "            \"spike_test\": {\"suspect_threshold\": 0.8, \"fail_threshold\": 3},\n",
    "            \"aggregate\": {},\n",
    "        }\n",
    "    }\n",
    "}\n",
    "c = Config(qc_config)"
   ]
  },
  {
   "cell_type": "code",
   "execution_count": null,
   "metadata": {},
   "outputs": [],
   "source": [
    "# Water level data\n",
    "# For a fixed station in Kotzebue, AK (https://www.google.com/maps?q=66.895035,-162.566752)\n",
    "filename = basedir.joinpath(\"water_level_example.csv\")\n",
    "variable_name = \"sea_surface_height_above_sea_level\"\n",
    "\n",
    "# Load data\n",
    "data = pd.read_csv(filename, parse_dates=[\"time\"])\n",
    "\n",
    "from ioos_qc.streams import PandasStream\n",
    "\n",
    "ps = PandasStream(data)"
   ]
  },
  {
   "cell_type": "code",
   "execution_count": null,
   "metadata": {},
   "outputs": [],
   "source": [
    "# Run QC\n",
    "qc_results = ps.run(c)"
   ]
  },
  {
   "cell_type": "code",
   "execution_count": null,
   "metadata": {},
   "outputs": [],
   "source": [
    "# Plot results\n",
    "title = \"Water Level [MHHW] [m] : Kotzebue, AK\"\n",
    "\n",
    "bokeh_multi_plot(ps, qc_results, title, ncols=2, sizing_mode=\"scale_width\")"
   ]
  }
 ],
 "metadata": {
  "kernelspec": {
   "display_name": "Python 3",
   "language": "python",
   "name": "python3"
  },
  "language_info": {
   "codemirror_mode": {
    "name": "ipython",
    "version": 3
   },
   "file_extension": ".py",
   "mimetype": "text/x-python",
   "name": "python",
   "nbconvert_exporter": "python",
   "pygments_lexer": "ipython3",
   "version": "3.7.8"
  }
 },
 "nbformat": 4,
 "nbformat_minor": 4
}
