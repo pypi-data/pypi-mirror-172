{
 "metadata": {
  "language_info": {
   "codemirror_mode": {
    "name": "ipython",
    "version": 3
   },
   "file_extension": ".py",
   "mimetype": "text/x-python",
   "name": "python",
   "nbconvert_exporter": "python",
   "pygments_lexer": "ipython3",
   "version": "3.8.2-final"
  },
  "orig_nbformat": 2,
  "kernelspec": {
   "name": "python_defaultSpec_1597870960455",
   "display_name": "Python 3.8.2 64-bit ('ioosqc38': conda)"
  }
 },
 "nbformat": 4,
 "nbformat_minor": 2,
 "cells": [
  {
   "cell_type": "code",
   "execution_count": 2,
   "metadata": {},
   "outputs": [],
   "source": [
    "# Install QC library\n",
    "#!pip uninstall -y ioos_qc\n",
    "#!pip install git+git://github.com/ioos/ioos_qc.git\n",
    "\n",
    "# # Alternative installation (install specific branch):\n",
    "# !pip uninstall -y ioos_qc\n",
    "# !pip install git+git://github.com/ioos/ioos_qc.git@BRANCHNAME\n",
    "\n",
    "# Alternative installation (run with local updates):\n",
    "#!pip uninstall -y ioos_qc\n",
    "import sys\n",
    "from pathlib import Path\n",
    "basedir = Path().absolute()\n",
    "libdir = basedir.parent.parent.parent.parent\n",
    "sys.path.append(str(libdir))"
   ]
  },
  {
   "cell_type": "markdown",
   "metadata": {},
   "source": [
    "## Setup the Config"
   ]
  },
  {
   "cell_type": "code",
   "execution_count": 3,
   "metadata": {
    "tags": []
   },
   "outputs": [
    {
     "output_type": "execute_result",
     "data": {
      "text/plain": "OrderedDict([('streams',\n              {'array': {'qartod': {'aggregate': None,\n                 'gross_range_test': {'suspect_span': [20, 30],\n                  'fail_span': [10, 40]}}}})])"
     },
     "metadata": {},
     "execution_count": 3
    }
   ],
   "source": [
    "from ioos_qc.config import Config\n",
    "\n",
    "config = \"\"\"\n",
    "    streams:\n",
    "        array:\n",
    "            qartod:\n",
    "                aggregate:\n",
    "                gross_range_test:\n",
    "                    suspect_span: [20, 30]\n",
    "                    fail_span: [10, 40]\n",
    "\"\"\"\n",
    "c = Config(config)\n",
    "c.config"
   ]
  },
  {
   "cell_type": "markdown",
   "metadata": {},
   "source": [
    "## Setup the sample data"
   ]
  },
  {
   "cell_type": "code",
   "execution_count": 4,
   "metadata": {},
   "outputs": [],
   "source": [
    "import numpy as np\n",
    "import pandas as pd\n",
    "\n",
    "rows = 50\n",
    "tinp = pd.date_range(start='01/01/2020', periods=rows, freq='D').values\n",
    "inp = np.arange(0, tinp.size)\n",
    "zinp = np.full_like(tinp, 2.0, dtype=np.float32)\n",
    "lat = np.full_like(tinp, 36.1, dtype=np.float32)\n",
    "lon = np.full_like(tinp, -76.5, dtype=np.float32)"
   ]
  },
  {
   "cell_type": "markdown",
   "metadata": {},
   "source": [
    "## Setup the NumpyStream"
   ]
  },
  {
   "cell_type": "code",
   "execution_count": 5,
   "metadata": {},
   "outputs": [
    {
     "output_type": "execute_result",
     "data": {
      "text/plain": "<ioos_qc.streams.NumpyStream at 0x7ffe4273f520>"
     },
     "metadata": {},
     "execution_count": 5
    }
   ],
   "source": [
    "from ioos_qc.streams import NumpyStream\n",
    "\n",
    "# Setup the stream\n",
    "ns = NumpyStream(inp, tinp, zinp, lat, lon)\n",
    "ns"
   ]
  },
  {
   "cell_type": "markdown",
   "metadata": {},
   "source": [
    "## Run the NumpyStream through the Config"
   ]
  },
  {
   "cell_type": "code",
   "execution_count": 6,
   "metadata": {},
   "outputs": [
    {
     "output_type": "execute_result",
     "data": {
      "text/plain": "defaultdict(<function ioos_qc.streams.NumpyStream.run.<locals>.<lambda>()>,\n            {'array': defaultdict(collections.OrderedDict,\n                         {'qartod': OrderedDict([('gross_range_test',\n                                        masked_array(data=[4, 4, 4, 4, 4, 4, 4, 4, 4, 4, 3, 3, 3, 3, 3, 3, 3, 3,\n                                                           3, 3, 1, 1, 1, 1, 1, 1, 1, 1, 1, 1, 1, 3, 3, 3, 3, 3,\n                                                           3, 3, 3, 3, 3, 4, 4, 4, 4, 4, 4, 4, 4, 4],\n                                                     mask=False,\n                                               fill_value=999999,\n                                                    dtype=uint8)),\n                                       ('aggregate',\n                                        masked_array(data=[4, 4, 4, 4, 4, 4, 4, 4, 4, 4, 3, 3, 3, 3, 3, 3, 3, 3,\n                                                           3, 3, 1, 1, 1, 1, 1, 1, 1, 1, 1, 1, 1, 3, 3, 3, 3, 3,\n                                                           3, 3, 3, 3, 3, 4, 4, 4, 4, 4, 4, 4, 4, 4],\n                                                     mask=False,\n                                               fill_value=999999,\n                                                    dtype=uint8))])})})"
     },
     "metadata": {},
     "execution_count": 6
    }
   ],
   "source": [
    "results = ns.run(c)\n",
    "results"
   ]
  }
 ]
}