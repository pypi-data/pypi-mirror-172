{
 "metadata": {
  "language_info": {
   "codemirror_mode": {
    "name": "ipython",
    "version": 3
   },
   "file_extension": ".py",
   "mimetype": "text/x-python",
   "name": "python",
   "nbconvert_exporter": "python",
   "pygments_lexer": "ipython3",
   "version": "3.8.2-final"
  },
  "orig_nbformat": 2,
  "kernelspec": {
   "name": "python_defaultSpec_1597863786755",
   "display_name": "Python 3.8.2 64-bit ('ioosqc38': conda)"
  }
 },
 "nbformat": 4,
 "nbformat_minor": 2,
 "cells": [
  {
   "cell_type": "code",
   "execution_count": 60,
   "metadata": {
    "tags": []
   },
   "outputs": [],
   "source": [
    "# Install QC library\n",
    "#!pip install git+git://github.com/ioos/ioos_qc.git\n",
    "\n",
    "# # Alternative installation (install specific branch):\n",
    "# !pip uninstall -y ioos_qc\n",
    "# !pip install git+git://github.com/ioos/ioos_qc.git@BRANCHNAME\n",
    "\n",
    "# Alternative installation (run with local updates):\n",
    "#!pip uninstall -y ioos_qc\n",
    "import sys\n",
    "from pathlib import Path\n",
    "basedir = Path().absolute()\n",
    "libdir = basedir.parent.parent.parent.parent\n",
    "sys.path.append(str(libdir))"
   ]
  },
  {
   "cell_type": "markdown",
   "metadata": {},
   "source": [
    "# Load a StreamConfig object from a Python dictionary"
   ]
  },
  {
   "cell_type": "code",
   "execution_count": 63,
   "metadata": {
    "tags": []
   },
   "outputs": [
    {
     "output_type": "execute_result",
     "data": {
      "text/plain": "OrderedDict([('qartod',\n              {'aggregate': {},\n               'gross_range_test': {'suspect_span': [1, 11],\n                'fail_span': [0, 12]}})])"
     },
     "metadata": {},
     "execution_count": 63
    }
   ],
   "source": [
    "from ioos_qc.config import StreamConfig\n",
    "config = {\n",
    "    'qartod': {\n",
    "        'aggregate': {},\n",
    "        'gross_range_test': {\n",
    "            'suspect_span': [1, 11],\n",
    "            'fail_span': [0, 12],\n",
    "        }\n",
    "    }\n",
    "}\n",
    "c = StreamConfig(config)\n",
    "c.config"
   ]
  },
  {
   "cell_type": "markdown",
   "metadata": {},
   "source": [
    "# Load a StreamConfig object from a YAML string"
   ]
  },
  {
   "cell_type": "code",
   "execution_count": 62,
   "metadata": {},
   "outputs": [
    {
     "output_type": "execute_result",
     "data": {
      "text/plain": "OrderedDict([('qartod',\n              {'aggregate': None,\n               'gross_range_test': {'suspect_span': [1, 11],\n                'fail_span': [0, 12]}})])"
     },
     "metadata": {},
     "execution_count": 62
    }
   ],
   "source": [
    "from ioos_qc.config import StreamConfig\n",
    "config = \"\"\"\n",
    "    qartod:\n",
    "        aggregate:\n",
    "        gross_range_test:\n",
    "            suspect_span: [1, 11]\n",
    "            fail_span: [0, 12]\n",
    "\"\"\"\n",
    "c = StreamConfig(config)\n",
    "c.config"
   ]
  }
 ]
}