{
 "metadata": {
  "language_info": {
   "codemirror_mode": {
    "name": "ipython",
    "version": 3
   },
   "file_extension": ".py",
   "mimetype": "text/x-python",
   "name": "python",
   "nbconvert_exporter": "python",
   "pygments_lexer": "ipython3",
   "version": "3.8.2-final"
  },
  "orig_nbformat": 2,
  "kernelspec": {
   "name": "python_defaultSpec_1597932427805",
   "display_name": "Python 3.8.2 64-bit ('ioosqc38': conda)"
  }
 },
 "nbformat": 4,
 "nbformat_minor": 2,
 "cells": [
  {
   "cell_type": "code",
   "execution_count": 1,
   "metadata": {},
   "outputs": [],
   "source": [
    "# Install QC library\n",
    "#!pip uninstall -y ioos_qc\n",
    "#!pip install git+git://github.com/ioos/ioos_qc.git\n",
    "\n",
    "# # Alternative installation (install specific branch):\n",
    "# !pip uninstall -y ioos_qc\n",
    "# !pip install git+git://github.com/ioos/ioos_qc.git@BRANCHNAME\n",
    "\n",
    "# Alternative installation (run with local updates):\n",
    "#!pip uninstall -y ioos_qc\n",
    "import sys\n",
    "from pathlib import Path\n",
    "basedir = Path().absolute()\n",
    "libdir = basedir.parent.parent.parent.parent\n",
    "sys.path.append(str(libdir))"
   ]
  },
  {
   "cell_type": "markdown",
   "metadata": {},
   "source": [
    "## Setup the Config"
   ]
  },
  {
   "cell_type": "code",
   "execution_count": 2,
   "metadata": {},
   "outputs": [
    {
     "output_type": "execute_result",
     "data": {
      "text/plain": "OrderedDict([('streams',\n              {'variable1': {'qartod': {'aggregate': None,\n                 'gross_range_test': {'suspect_span': [20, 30],\n                  'fail_span': [10, 40]}}}})])"
     },
     "metadata": {},
     "execution_count": 2
    }
   ],
   "source": [
    "from ioos_qc.config import Config\n",
    "\n",
    "config = \"\"\"\n",
    "    streams:\n",
    "        variable1:\n",
    "            qartod:\n",
    "                aggregate:\n",
    "                gross_range_test:\n",
    "                    suspect_span: [20, 30]\n",
    "                    fail_span: [10, 40]\n",
    "\"\"\"\n",
    "c = Config(config)\n",
    "c.config"
   ]
  },
  {
   "cell_type": "markdown",
   "metadata": {},
   "source": [
    "## Setup the sample data"
   ]
  },
  {
   "cell_type": "code",
   "execution_count": 3,
   "metadata": {},
   "outputs": [],
   "source": [
    "import os\n",
    "import numpy as np\n",
    "import xarray as xr\n",
    "import pandas as pd\n",
    "import netCDF4 as nc4\n",
    "\n",
    "rows = 50\n",
    "data_inputs = {\n",
    "    'time': pd.date_range(start='01/01/2020', periods=rows, freq='D'),\n",
    "    'z': 2.0,\n",
    "    'lat': 36.1,\n",
    "    'lon': -76.5,\n",
    "    'variable1': np.arange(0, rows),\n",
    "}\n",
    "df = pd.DataFrame(data_inputs)\n",
    "\n",
    "ncfile = 'tmp.nc'\n",
    "if os.path.exists(ncfile):\n",
    "    os.remove(ncfile)\n",
    "ds = xr.Dataset.from_dataframe(df).to_netcdf(ncfile, 'w')"
   ]
  },
  {
   "cell_type": "markdown",
   "metadata": {},
   "source": [
    "## Setup the NetcdfStream"
   ]
  },
  {
   "cell_type": "code",
   "execution_count": 4,
   "metadata": {},
   "outputs": [
    {
     "output_type": "execute_result",
     "data": {
      "text/plain": "<ioos_qc.streams.NetcdfStream at 0x7fc8fd4063a0>"
     },
     "metadata": {},
     "execution_count": 4
    }
   ],
   "source": [
    "from ioos_qc.streams import NetcdfStream\n",
    "\n",
    "ns = NetcdfStream(ncfile)\n",
    "ns"
   ]
  },
  {
   "cell_type": "markdown",
   "metadata": {},
   "source": [
    "## Run the NetcdfStream through the Config"
   ]
  },
  {
   "cell_type": "code",
   "execution_count": 5,
   "metadata": {},
   "outputs": [
    {
     "output_type": "execute_result",
     "data": {
      "text/plain": "defaultdict(<function ioos_qc.streams.NumpyStream.run.<locals>.<lambda>()>,\n            {'variable1': defaultdict(collections.OrderedDict,\n                         {'qartod': OrderedDict([('gross_range_test',\n                                        masked_array(data=[4, 4, 4, 4, 4, 4, 4, 4, 4, 4, 3, 3, 3, 3, 3, 3, 3, 3,\n                                                           3, 3, 1, 1, 1, 1, 1, 1, 1, 1, 1, 1, 1, 3, 3, 3, 3, 3,\n                                                           3, 3, 3, 3, 3, 4, 4, 4, 4, 4, 4, 4, 4, 4],\n                                                     mask=False,\n                                               fill_value=999999,\n                                                    dtype=uint8)),\n                                       ('aggregate',\n                                        masked_array(data=[4, 4, 4, 4, 4, 4, 4, 4, 4, 4, 3, 3, 3, 3, 3, 3, 3, 3,\n                                                           3, 3, 1, 1, 1, 1, 1, 1, 1, 1, 1, 1, 1, 3, 3, 3, 3, 3,\n                                                           3, 3, 3, 3, 3, 4, 4, 4, 4, 4, 4, 4, 4, 4],\n                                                     mask=False,\n                                               fill_value=999999,\n                                                    dtype=uint8))])})})"
     },
     "metadata": {},
     "execution_count": 5
    }
   ],
   "source": [
    "results = ns.run(c)\n",
    "results"
   ]
  }
 ]
}