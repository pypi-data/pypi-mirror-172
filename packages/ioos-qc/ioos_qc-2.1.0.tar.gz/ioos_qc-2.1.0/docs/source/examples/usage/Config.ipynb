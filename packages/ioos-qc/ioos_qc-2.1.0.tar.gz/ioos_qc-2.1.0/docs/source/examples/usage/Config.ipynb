{
 "metadata": {
  "language_info": {
   "codemirror_mode": {
    "name": "ipython",
    "version": 3
   },
   "file_extension": ".py",
   "mimetype": "text/x-python",
   "name": "python",
   "nbconvert_exporter": "python",
   "pygments_lexer": "ipython3",
   "version": "3.8.2-final"
  },
  "orig_nbformat": 2,
  "kernelspec": {
   "name": "python_defaultSpec_1597865297299",
   "display_name": "Python 3.8.2 64-bit ('ioosqc38': conda)"
  }
 },
 "nbformat": 4,
 "nbformat_minor": 2,
 "cells": [
  {
   "cell_type": "code",
   "execution_count": 1,
   "metadata": {},
   "outputs": [],
   "source": [
    "# Install QC library\n",
    "#!pip uninstall -y ioos_qc\n",
    "#!pip install git+git://github.com/ioos/ioos_qc.git\n",
    "\n",
    "# # Alternative installation (install specific branch):\n",
    "# !pip uninstall -y ioos_qc\n",
    "# !pip install git+git://github.com/ioos/ioos_qc.git@BRANCHNAME\n",
    "\n",
    "# Alternative installation (run with local updates):\n",
    "#!pip uninstall -y ioos_qc\n",
    "import sys\n",
    "from pathlib import Path\n",
    "basedir = Path().absolute()\n",
    "libdir = basedir.parent.parent.parent.parent\n",
    "sys.path.append(str(libdir))"
   ]
  },
  {
   "cell_type": "markdown",
   "metadata": {},
   "source": [
    "# Load a Config object from a YAML string"
   ]
  },
  {
   "cell_type": "code",
   "execution_count": 3,
   "metadata": {
    "tags": []
   },
   "outputs": [
    {
     "output_type": "stream",
     "name": "stderr",
     "text": "Ignoring region because it could not be parsed, is it valid GeoJSON?\nIgnoring region because it could not be parsed, is it valid GeoJSON?\n"
    },
    {
     "output_type": "execute_result",
     "data": {
      "text/plain": "OrderedDict([('contexts',\n              [{'region': None,\n                'window': {'starting': datetime.datetime(2020, 1, 1, 0, 0),\n                 'ending': datetime.datetime(2020, 4, 1, 0, 0)},\n                'streams': {'variable1': {'qartod': {'location_test': {'bbox': [-80,\n                     40,\n                     -70,\n                     60]}}},\n                 'variable2': {'qartod': {'gross_range_test': {'suspect_span': [1,\n                     11],\n                    'fail_span': [0, 12]}}}}},\n               {'region': None,\n                'window': {'starting': datetime.datetime(2020, 1, 1, 0, 0),\n                 'ending': datetime.datetime(2020, 4, 1, 0, 0)},\n                'streams': {'variable1': {'qartod': {'location_test': {'bbox': [-80,\n                     40,\n                     -70,\n                     60]}}},\n                 'variable2': {'qartod': {'gross_range_test': {'suspect_span': [1,\n                     11],\n                    'fail_span': [0, 12]}}}}}])])"
     },
     "metadata": {},
     "execution_count": 3
    }
   ],
   "source": [
    "from ioos_qc.config import Config\n",
    "\n",
    "config = \"\"\"\n",
    "    contexts:\n",
    "        -   region: null\n",
    "            window:\n",
    "                starting: 2020-01-01T00:00:00Z\n",
    "                ending: 2020-04-01T00:00:00Z\n",
    "            streams:\n",
    "                variable1:\n",
    "                    qartod:\n",
    "                        location_test:\n",
    "                            bbox: [-80, 40, -70, 60]\n",
    "                variable2:\n",
    "                    qartod:\n",
    "                        gross_range_test:\n",
    "                            suspect_span: [1, 11]\n",
    "                            fail_span: [0, 12]\n",
    "        -   region: null\n",
    "            window:\n",
    "                starting: 2020-01-01T00:00:00Z\n",
    "                ending: 2020-04-01T00:00:00Z\n",
    "            streams:\n",
    "                variable1:\n",
    "                    qartod:\n",
    "                        location_test:\n",
    "                            bbox: [-80, 40, -70, 60]\n",
    "                variable2:\n",
    "                    qartod:\n",
    "                        gross_range_test:\n",
    "                            suspect_span: [1, 11]\n",
    "                            fail_span: [0, 12]\n",
    "\"\"\"\n",
    "c = Config(config)\n",
    "c.config"
   ]
  }
 ]
}